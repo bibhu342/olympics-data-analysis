{
 "cells": [
  {
   "cell_type": "markdown",
   "id": "2dfbde2a",
   "metadata": {},
   "source": [
    "# Milestone 3 — Correlation & Metrics (SQL + Python)\n",
    "\n"
   ]
  },
  {
   "cell_type": "code",
   "execution_count": 1,
   "id": "0e30e4e6",
   "metadata": {},
   "outputs": [
    {
     "name": "stdout",
     "output_type": "stream",
     "text": [
      "Using data path: C:\\Users\\Adithya\\Downloads\\Bibhu\\SQL\\athlete_events\\data\\athlete_events.csv\n",
      "Loaded CSV with shape: (271116, 15)\n"
     ]
    }
   ],
   "source": [
    "# Setup: imports + data path\n",
    "from pathlib import Path\n",
    "import pandas as pd\n",
    "import numpy as np\n",
    "import matplotlib.pyplot as plt\n",
    "import seaborn as sns\n",
    "import sqlite3\n",
    "import statsmodels.api as sm\n",
    "import warnings\n",
    "warnings.filterwarnings(\"ignore\")\n",
    "%matplotlib inline\n",
    "\n",
    "# Local data path (update if different)\n",
    "data_dir = Path(r\"C:\\Users\\Adithya\\Downloads\\Bibhu\\SQL\\athlete_events\\data\")\n",
    "athletes_fp = data_dir / \"athlete_events.csv\"\n",
    "noc_fp = data_dir / \"noc_regions.csv\"\n",
    "\n",
    "print(\"Using data path:\", athletes_fp)\n",
    "if not athletes_fp.exists():\n",
    "    raise FileNotFoundError(f\"athlete_events.csv not found at {athletes_fp}. Place the CSV in this folder and re-run the notebook.\")\n",
    "# load CSV into pandas\n",
    "df = pd.read_csv(athletes_fp, low_memory=False)\n",
    "print(\"Loaded CSV with shape:\", df.shape)\n",
    "# standard helpers\n",
    "df['Year'] = df['Year'].astype(int)\n",
    "df['is_medal'] = df['Medal'].notna()\n"
   ]
  },
  {
   "cell_type": "code",
   "execution_count": 2,
   "id": "bcb13875",
   "metadata": {},
   "outputs": [
    {
     "data": {
      "text/plain": [
       "271116"
      ]
     },
     "execution_count": 2,
     "metadata": {},
     "output_type": "execute_result"
    }
   ],
   "source": [
    "# create in-memory sqlite and table\n",
    "conn = sqlite3.connect(':memory:')\n",
    "df.to_sql('olympics', conn, index=False, if_exists='replace')"
   ]
  },
  {
   "cell_type": "markdown",
   "id": "9a28b2eb",
   "metadata": {},
   "source": [
    "## 1) Correlation preparation — extract numeric fields with SQL"
   ]
  },
  {
   "cell_type": "code",
   "execution_count": 3,
   "id": "5a8c29bf",
   "metadata": {},
   "outputs": [
    {
     "data": {
      "text/html": [
       "<div>\n",
       "<style scoped>\n",
       "    .dataframe tbody tr th:only-of-type {\n",
       "        vertical-align: middle;\n",
       "    }\n",
       "\n",
       "    .dataframe tbody tr th {\n",
       "        vertical-align: top;\n",
       "    }\n",
       "\n",
       "    .dataframe thead th {\n",
       "        text-align: right;\n",
       "    }\n",
       "</style>\n",
       "<table border=\"1\" class=\"dataframe\">\n",
       "  <thead>\n",
       "    <tr style=\"text-align: right;\">\n",
       "      <th></th>\n",
       "      <th>Age</th>\n",
       "      <th>Height</th>\n",
       "      <th>Weight</th>\n",
       "    </tr>\n",
       "  </thead>\n",
       "  <tbody>\n",
       "    <tr>\n",
       "      <th>0</th>\n",
       "      <td>24.0</td>\n",
       "      <td>180.0</td>\n",
       "      <td>80.0</td>\n",
       "    </tr>\n",
       "    <tr>\n",
       "      <th>1</th>\n",
       "      <td>23.0</td>\n",
       "      <td>170.0</td>\n",
       "      <td>60.0</td>\n",
       "    </tr>\n",
       "    <tr>\n",
       "      <th>4</th>\n",
       "      <td>21.0</td>\n",
       "      <td>185.0</td>\n",
       "      <td>82.0</td>\n",
       "    </tr>\n",
       "    <tr>\n",
       "      <th>5</th>\n",
       "      <td>21.0</td>\n",
       "      <td>185.0</td>\n",
       "      <td>82.0</td>\n",
       "    </tr>\n",
       "    <tr>\n",
       "      <th>6</th>\n",
       "      <td>25.0</td>\n",
       "      <td>185.0</td>\n",
       "      <td>82.0</td>\n",
       "    </tr>\n",
       "  </tbody>\n",
       "</table>\n",
       "</div>"
      ],
      "text/plain": [
       "    Age  Height  Weight\n",
       "0  24.0   180.0    80.0\n",
       "1  23.0   170.0    60.0\n",
       "4  21.0   185.0    82.0\n",
       "5  21.0   185.0    82.0\n",
       "6  25.0   185.0    82.0"
      ]
     },
     "execution_count": 3,
     "metadata": {},
     "output_type": "execute_result"
    }
   ],
   "source": [
    "query = \"\"\"\n",
    "SELECT Age, Height, Weight\n",
    "FROM olympics\n",
    "WHERE Age IS NOT NULL OR Height IS NOT NULL OR Weight IS NOT NULL\n",
    "LIMIT 100000;\n",
    "\"\"\"\n",
    "num_sample = pd.read_sql_query(query, conn)\n",
    "num_sample = num_sample.apply(pd.to_numeric, errors='coerce')\n",
    "num_sample.dropna(inplace=True)\n",
    "num_sample.head()"
   ]
  },
  {
   "cell_type": "code",
   "execution_count": 4,
   "id": "08191b7d",
   "metadata": {},
   "outputs": [
    {
     "data": {
      "image/png": "[encoded data removed]",
      "text/plain": [
       "<Figure size 600x400 with 2 Axes>"
      ]
     },
     "metadata": {},
     "output_type": "display_data"
    }
   ],
   "source": [
    "# correlation matrix\n",
    "corr = num_sample[['Age','Height','Weight']].corr()\n",
    "import seaborn as sns\n",
    "import matplotlib.pyplot as plt\n",
    "plt.figure(figsize=(6,4))\n",
    "sns.heatmap(corr, annot=True, cmap='coolwarm')\n",
    "plt.title('Correlation heatmap (Age, Height, Weight)')\n",
    "plt.show()"
   ]
  },
  {
   "cell_type": "markdown",
   "id": "bfd2f57c",
   "metadata": {},
   "source": [
    "## 2) Logistic regression (Medal ~ Age + Height + Weight) — prepare data via SQL"
   ]
  },
  {
   "cell_type": "code",
   "execution_count": 5,
   "id": "3a192534",
   "metadata": {},
   "outputs": [
    {
     "data": {
      "text/html": [
       "<div>\n",
       "<style scoped>\n",
       "    .dataframe tbody tr th:only-of-type {\n",
       "        vertical-align: middle;\n",
       "    }\n",
       "\n",
       "    .dataframe tbody tr th {\n",
       "        vertical-align: top;\n",
       "    }\n",
       "\n",
       "    .dataframe thead th {\n",
       "        text-align: right;\n",
       "    }\n",
       "</style>\n",
       "<table border=\"1\" class=\"dataframe\">\n",
       "  <thead>\n",
       "    <tr style=\"text-align: right;\">\n",
       "      <th></th>\n",
       "      <th>Medal_Binary</th>\n",
       "      <th>Age</th>\n",
       "      <th>Height</th>\n",
       "      <th>Weight</th>\n",
       "    </tr>\n",
       "  </thead>\n",
       "  <tbody>\n",
       "    <tr>\n",
       "      <th>0</th>\n",
       "      <td>0</td>\n",
       "      <td>24.0</td>\n",
       "      <td>180.0</td>\n",
       "      <td>80.0</td>\n",
       "    </tr>\n",
       "    <tr>\n",
       "      <th>1</th>\n",
       "      <td>0</td>\n",
       "      <td>23.0</td>\n",
       "      <td>170.0</td>\n",
       "      <td>60.0</td>\n",
       "    </tr>\n",
       "    <tr>\n",
       "      <th>2</th>\n",
       "      <td>0</td>\n",
       "      <td>21.0</td>\n",
       "      <td>185.0</td>\n",
       "      <td>82.0</td>\n",
       "    </tr>\n",
       "    <tr>\n",
       "      <th>3</th>\n",
       "      <td>0</td>\n",
       "      <td>21.0</td>\n",
       "      <td>185.0</td>\n",
       "      <td>82.0</td>\n",
       "    </tr>\n",
       "    <tr>\n",
       "      <th>4</th>\n",
       "      <td>0</td>\n",
       "      <td>25.0</td>\n",
       "      <td>185.0</td>\n",
       "      <td>82.0</td>\n",
       "    </tr>\n",
       "  </tbody>\n",
       "</table>\n",
       "</div>"
      ],
      "text/plain": [
       "   Medal_Binary   Age  Height  Weight\n",
       "0             0  24.0   180.0    80.0\n",
       "1             0  23.0   170.0    60.0\n",
       "2             0  21.0   185.0    82.0\n",
       "3             0  21.0   185.0    82.0\n",
       "4             0  25.0   185.0    82.0"
      ]
     },
     "execution_count": 5,
     "metadata": {},
     "output_type": "execute_result"
    }
   ],
   "source": [
    "# extract rows where Age/Height/Weight exist and Medal info\n",
    "query = \"\"\"\n",
    "SELECT Medal IS NOT NULL AS Medal_Binary, Age, Height, Weight\n",
    "FROM olympics\n",
    "WHERE (Age IS NOT NULL AND Height IS NOT NULL AND Weight IS NOT NULL)\n",
    "LIMIT 200000;\n",
    "\"\"\"\n",
    "model_df = pd.read_sql_query(query, conn)\n",
    "model_df = model_df.dropna()\n",
    "# convert boolean to int\n",
    "model_df['Medal_Binary'] = model_df['Medal_Binary'].astype(int)\n",
    "model_df.head()"
   ]
  },
  {
   "cell_type": "code",
   "execution_count": 6,
   "id": "297bc41a",
   "metadata": {},
   "outputs": [
    {
     "name": "stdout",
     "output_type": "stream",
     "text": [
      "                           Logit Regression Results                           \n",
      "==============================================================================\n",
      "Dep. Variable:           Medal_Binary   No. Observations:               200000\n",
      "Model:                          Logit   Df Residuals:                   199996\n",
      "Method:                           MLE   Df Model:                            3\n",
      "Date:                Sun, 26 Oct 2025   Pseudo R-squ.:                 0.01094\n",
      "Time:                        21:25:26   Log-Likelihood:                -82277.\n",
      "converged:                       True   LL-Null:                       -83187.\n",
      "Covariance Type:            nonrobust   LLR p-value:                     0.000\n",
      "==============================================================================\n",
      "                 coef    std err          z      P>|z|      [0.025      0.975]\n",
      "------------------------------------------------------------------------------\n",
      "const         -5.2741      0.141    -37.522      0.000      -5.550      -4.999\n",
      "Age            0.0068      0.001      5.745      0.000       0.004       0.009\n",
      "Height         0.0158      0.001     16.295      0.000       0.014       0.018\n",
      "Weight         0.0076      0.001     10.900      0.000       0.006       0.009\n",
      "==============================================================================\n"
     ]
    }
   ],
   "source": [
    "# fit logistic regression\n",
    "import statsmodels.api as sm\n",
    "X = sm.add_constant(model_df[['Age','Height','Weight']])\n",
    "y = model_df['Medal_Binary']\n",
    "logit = sm.Logit(y, X).fit(disp=False)\n",
    "print(logit.summary())"
   ]
  },
  {
   "cell_type": "markdown",
   "id": "2ecc45b0",
   "metadata": {},
   "source": [
    "## 3) Medal Efficiency Index (MEI) and Age Performance Index (API) — computed using SQL aggregates"
   ]
  },
  {
   "cell_type": "code",
   "execution_count": 7,
   "id": "605f84d8",
   "metadata": {},
   "outputs": [
    {
     "data": {
      "text/html": [
       "<div>\n",
       "<style scoped>\n",
       "    .dataframe tbody tr th:only-of-type {\n",
       "        vertical-align: middle;\n",
       "    }\n",
       "\n",
       "    .dataframe tbody tr th {\n",
       "        vertical-align: top;\n",
       "    }\n",
       "\n",
       "    .dataframe thead th {\n",
       "        text-align: right;\n",
       "    }\n",
       "</style>\n",
       "<table border=\"1\" class=\"dataframe\">\n",
       "  <thead>\n",
       "    <tr style=\"text-align: right;\">\n",
       "      <th></th>\n",
       "      <th>NOC</th>\n",
       "      <th>MedalCount</th>\n",
       "      <th>NumAthletes</th>\n",
       "      <th>MEI</th>\n",
       "    </tr>\n",
       "  </thead>\n",
       "  <tbody>\n",
       "    <tr>\n",
       "      <th>139</th>\n",
       "      <td>URS</td>\n",
       "      <td>2503</td>\n",
       "      <td>2948</td>\n",
       "      <td>0.849050</td>\n",
       "    </tr>\n",
       "    <tr>\n",
       "      <th>47</th>\n",
       "      <td>GDR</td>\n",
       "      <td>1005</td>\n",
       "      <td>1360</td>\n",
       "      <td>0.738971</td>\n",
       "    </tr>\n",
       "    <tr>\n",
       "      <th>141</th>\n",
       "      <td>USA</td>\n",
       "      <td>5637</td>\n",
       "      <td>9653</td>\n",
       "      <td>0.583964</td>\n",
       "    </tr>\n",
       "    <tr>\n",
       "      <th>3</th>\n",
       "      <td>ANZ</td>\n",
       "      <td>29</td>\n",
       "      <td>53</td>\n",
       "      <td>0.547170</td>\n",
       "    </tr>\n",
       "    <tr>\n",
       "      <th>112</th>\n",
       "      <td>RUS</td>\n",
       "      <td>1165</td>\n",
       "      <td>2428</td>\n",
       "      <td>0.479819</td>\n",
       "    </tr>\n",
       "  </tbody>\n",
       "</table>\n",
       "</div>"
      ],
      "text/plain": [
       "     NOC  MedalCount  NumAthletes       MEI\n",
       "139  URS        2503         2948  0.849050\n",
       "47   GDR        1005         1360  0.738971\n",
       "141  USA        5637         9653  0.583964\n",
       "3    ANZ          29           53  0.547170\n",
       "112  RUS        1165         2428  0.479819"
      ]
     },
     "execution_count": 7,
     "metadata": {},
     "output_type": "execute_result"
    }
   ],
   "source": [
    "# MEI via SQL: medals per NOC and athletes per NOC\n",
    "medals_sql = pd.read_sql_query(\"SELECT NOC, COUNT(Medal) AS MedalCount FROM olympics WHERE Medal IS NOT NULL GROUP BY NOC;\", conn)\n",
    "athletes_sql = pd.read_sql_query(\"SELECT NOC, COUNT(DISTINCT ID) AS NumAthletes FROM olympics GROUP BY NOC;\", conn)\n",
    "mei = medals_sql.merge(athletes_sql, on='NOC')\n",
    "mei['MEI'] = mei['MedalCount']/mei['NumAthletes']\n",
    "mei.sort_values('MEI', ascending=False).head()"
   ]
  },
  {
   "cell_type": "code",
   "execution_count": 8,
   "id": "11f585da",
   "metadata": {},
   "outputs": [
    {
     "data": {
      "text/html": [
       "<div>\n",
       "<style scoped>\n",
       "    .dataframe tbody tr th:only-of-type {\n",
       "        vertical-align: middle;\n",
       "    }\n",
       "\n",
       "    .dataframe tbody tr th {\n",
       "        vertical-align: top;\n",
       "    }\n",
       "\n",
       "    .dataframe thead th {\n",
       "        text-align: right;\n",
       "    }\n",
       "</style>\n",
       "<table border=\"1\" class=\"dataframe\">\n",
       "  <thead>\n",
       "    <tr style=\"text-align: right;\">\n",
       "      <th></th>\n",
       "      <th>Sport</th>\n",
       "      <th>AvgMedalistAge</th>\n",
       "      <th>AvgAthleteAge</th>\n",
       "      <th>API</th>\n",
       "    </tr>\n",
       "  </thead>\n",
       "  <tbody>\n",
       "    <tr>\n",
       "      <th>3</th>\n",
       "      <td>Archery</td>\n",
       "      <td>30.927900</td>\n",
       "      <td>27.935226</td>\n",
       "      <td>1.107129</td>\n",
       "    </tr>\n",
       "    <tr>\n",
       "      <th>23</th>\n",
       "      <td>Figure Skating</td>\n",
       "      <td>24.020779</td>\n",
       "      <td>22.232190</td>\n",
       "      <td>1.080450</td>\n",
       "    </tr>\n",
       "    <tr>\n",
       "      <th>55</th>\n",
       "      <td>Synchronized Swimming</td>\n",
       "      <td>23.809302</td>\n",
       "      <td>22.366851</td>\n",
       "      <td>1.064491</td>\n",
       "    </tr>\n",
       "    <tr>\n",
       "      <th>17</th>\n",
       "      <td>Cross Country Skiing</td>\n",
       "      <td>27.617268</td>\n",
       "      <td>26.006155</td>\n",
       "      <td>1.061951</td>\n",
       "    </tr>\n",
       "    <tr>\n",
       "      <th>18</th>\n",
       "      <td>Curling</td>\n",
       "      <td>33.302632</td>\n",
       "      <td>31.412527</td>\n",
       "      <td>1.060170</td>\n",
       "    </tr>\n",
       "  </tbody>\n",
       "</table>\n",
       "</div>"
      ],
      "text/plain": [
       "                    Sport  AvgMedalistAge  AvgAthleteAge       API\n",
       "3                 Archery       30.927900      27.935226  1.107129\n",
       "23         Figure Skating       24.020779      22.232190  1.080450\n",
       "55  Synchronized Swimming       23.809302      22.366851  1.064491\n",
       "17   Cross Country Skiing       27.617268      26.006155  1.061951\n",
       "18                Curling       33.302632      31.412527  1.060170"
      ]
     },
     "execution_count": 8,
     "metadata": {},
     "output_type": "execute_result"
    }
   ],
   "source": [
    "# API via SQL: avg medalist age vs avg athlete age per sport\n",
    "medalist_age = pd.read_sql_query(\"SELECT Sport, AVG(Age) AS AvgMedalistAge FROM olympics WHERE Medal IS NOT NULL GROUP BY Sport;\", conn)\n",
    "athlete_age = pd.read_sql_query(\"SELECT Sport, AVG(Age) AS AvgAthleteAge FROM olympics GROUP BY Sport;\", conn)\n",
    "api = medalist_age.merge(athlete_age, on='Sport')\n",
    "api['API'] = api['AvgMedalistAge']/api['AvgAthleteAge']\n",
    "api.sort_values('API', ascending=False).head()"
   ]
  },
  {
   "cell_type": "code",
   "execution_count": 9,
   "id": "cdb60a76",
   "metadata": {},
   "outputs": [
    {
     "name": "stdout",
     "output_type": "stream",
     "text": [
      "Saved MEI/API to c:\\Users\\Adithya\\Downloads\\Bibhu\\SQL\\athlete_events\\notebooks\\milestone3_summary\n"
     ]
    }
   ],
   "source": [
    "# save outputs\n",
    "dir = Path.cwd()/'milestone3_summary'\n",
    "dir.mkdir(exist_ok=True)\n",
    "mei.to_csv(dir/'medal_efficiency_index.csv', index=False)\n",
    "api.to_csv(dir/'age_performance_index.csv', index=False)\n",
    "print('Saved MEI/API to', dir)"
   ]
  }
 ],
 "metadata": {
  "kernelspec": {
   "display_name": "Python 3",
   "language": "python",
   "name": "python3"
  },
  "language_info": {
   "codemirror_mode": {
    "name": "ipython",
    "version": 3
   },
   "file_extension": ".py",
   "mimetype": "text/x-python",
   "name": "python",
   "nbconvert_exporter": "python",
   "pygments_lexer": "ipython3",
   "version": "3.13.7"
  }
 },
 "nbformat": 4,
 "nbformat_minor": 5
}
