{
 "cells": [
  {
   "cell_type": "markdown",
   "id": "777ac1fc",
   "metadata": {},
   "source": [
    "# Milestone 1 — SQL Analysis (SQLite)\n",
    "\n"
   ]
  },
  {
   "cell_type": "code",
   "execution_count": 1,
   "id": "552364f6",
   "metadata": {},
   "outputs": [
    {
     "name": "stdout",
     "output_type": "stream",
     "text": [
      "Using data path: C:\\Users\\Adithya\\Downloads\\Bibhu\\SQL\\athlete_events\\data\\athlete_events.csv\n",
      "Loaded CSV with shape: (271116, 15)\n"
     ]
    }
   ],
   "source": [
    "# Setup: imports + data path\n",
    "from pathlib import Path\n",
    "import pandas as pd\n",
    "import numpy as np\n",
    "import matplotlib.pyplot as plt\n",
    "import seaborn as sns\n",
    "import sqlite3\n",
    "import statsmodels.api as sm\n",
    "import warnings\n",
    "warnings.filterwarnings(\"ignore\")\n",
    "%matplotlib inline\n",
    "\n",
    "# Local data path (update if different)\n",
    "data_dir = Path(r\"C:\\Users\\Adithya\\Downloads\\Bibhu\\SQL\\athlete_events\\data\")\n",
    "athletes_fp = data_dir / \"athlete_events.csv\"\n",
    "noc_fp = data_dir / \"noc_regions.csv\"\n",
    "\n",
    "print(\"Using data path:\", athletes_fp)\n",
    "if not athletes_fp.exists():\n",
    "    raise FileNotFoundError(f\"athlete_events.csv not found at {athletes_fp}. Place the CSV in this folder and re-run the notebook.\")\n",
    "# load CSV into pandas\n",
    "df = pd.read_csv(athletes_fp, low_memory=False)\n",
    "print(\"Loaded CSV with shape:\", df.shape)\n",
    "# standard helpers\n",
    "df['Year'] = df['Year'].astype(int)\n",
    "df['is_medal'] = df['Medal'].notna()\n"
   ]
  },
  {
   "cell_type": "markdown",
   "id": "51eef52e",
   "metadata": {},
   "source": [
    "## Create in-memory SQLite DB and load dataframe as a SQL table"
   ]
  },
  {
   "cell_type": "code",
   "execution_count": 2,
   "id": "45979ba7",
   "metadata": {},
   "outputs": [
    {
     "name": "stdout",
     "output_type": "stream",
     "text": [
      "Table olympics created in SQLite in-memory DB\n"
     ]
    }
   ],
   "source": [
    "# Create in-memory SQLite DB and populate 'olympics' table\n",
    "conn = sqlite3.connect(':memory:')\n",
    "df.to_sql('olympics', conn, index=False, if_exists='replace')\n",
    "print('Table olympics created in SQLite in-memory DB')"
   ]
  },
  {
   "cell_type": "markdown",
   "id": "c64bf259",
   "metadata": {},
   "source": [
    "## SQL: Medals over time (example query)"
   ]
  },
  {
   "cell_type": "code",
   "execution_count": 3,
   "id": "61b7a6e3",
   "metadata": {},
   "outputs": [
    {
     "data": {
      "text/html": [
       "<div>\n",
       "<style scoped>\n",
       "    .dataframe tbody tr th:only-of-type {\n",
       "        vertical-align: middle;\n",
       "    }\n",
       "\n",
       "    .dataframe tbody tr th {\n",
       "        vertical-align: top;\n",
       "    }\n",
       "\n",
       "    .dataframe thead th {\n",
       "        text-align: right;\n",
       "    }\n",
       "</style>\n",
       "<table border=\"1\" class=\"dataframe\">\n",
       "  <thead>\n",
       "    <tr style=\"text-align: right;\">\n",
       "      <th></th>\n",
       "      <th>Year</th>\n",
       "      <th>total_medals</th>\n",
       "    </tr>\n",
       "  </thead>\n",
       "  <tbody>\n",
       "    <tr>\n",
       "      <th>0</th>\n",
       "      <td>1896</td>\n",
       "      <td>143</td>\n",
       "    </tr>\n",
       "    <tr>\n",
       "      <th>1</th>\n",
       "      <td>1900</td>\n",
       "      <td>604</td>\n",
       "    </tr>\n",
       "    <tr>\n",
       "      <th>2</th>\n",
       "      <td>1904</td>\n",
       "      <td>486</td>\n",
       "    </tr>\n",
       "    <tr>\n",
       "      <th>3</th>\n",
       "      <td>1906</td>\n",
       "      <td>458</td>\n",
       "    </tr>\n",
       "    <tr>\n",
       "      <th>4</th>\n",
       "      <td>1908</td>\n",
       "      <td>831</td>\n",
       "    </tr>\n",
       "  </tbody>\n",
       "</table>\n",
       "</div>"
      ],
      "text/plain": [
       "   Year  total_medals\n",
       "0  1896           143\n",
       "1  1900           604\n",
       "2  1904           486\n",
       "3  1906           458\n",
       "4  1908           831"
      ]
     },
     "execution_count": 3,
     "metadata": {},
     "output_type": "execute_result"
    }
   ],
   "source": [
    "import pandas as pd\n",
    "query = '''\n",
    "SELECT Year, COUNT(Medal) AS total_medals\n",
    "FROM olympics\n",
    "WHERE Medal IS NOT NULL\n",
    "GROUP BY Year\n",
    "ORDER BY Year;\n",
    "'''\n",
    "medals_over_time = pd.read_sql_query(query, conn)\n",
    "medals_over_time.head()"
   ]
  },
  {
   "cell_type": "markdown",
   "id": "1ac8dd1c",
   "metadata": {},
   "source": [
    "## SQL: Top 10 sports by medal count"
   ]
  },
  {
   "cell_type": "code",
   "execution_count": 4,
   "id": "81551e58",
   "metadata": {},
   "outputs": [
    {
     "data": {
      "text/html": [
       "<div>\n",
       "<style scoped>\n",
       "    .dataframe tbody tr th:only-of-type {\n",
       "        vertical-align: middle;\n",
       "    }\n",
       "\n",
       "    .dataframe tbody tr th {\n",
       "        vertical-align: top;\n",
       "    }\n",
       "\n",
       "    .dataframe thead th {\n",
       "        text-align: right;\n",
       "    }\n",
       "</style>\n",
       "<table border=\"1\" class=\"dataframe\">\n",
       "  <thead>\n",
       "    <tr style=\"text-align: right;\">\n",
       "      <th></th>\n",
       "      <th>Sport</th>\n",
       "      <th>medal_count</th>\n",
       "    </tr>\n",
       "  </thead>\n",
       "  <tbody>\n",
       "    <tr>\n",
       "      <th>0</th>\n",
       "      <td>Athletics</td>\n",
       "      <td>3969</td>\n",
       "    </tr>\n",
       "    <tr>\n",
       "      <th>1</th>\n",
       "      <td>Swimming</td>\n",
       "      <td>3048</td>\n",
       "    </tr>\n",
       "    <tr>\n",
       "      <th>2</th>\n",
       "      <td>Rowing</td>\n",
       "      <td>2945</td>\n",
       "    </tr>\n",
       "    <tr>\n",
       "      <th>3</th>\n",
       "      <td>Gymnastics</td>\n",
       "      <td>2256</td>\n",
       "    </tr>\n",
       "    <tr>\n",
       "      <th>4</th>\n",
       "      <td>Fencing</td>\n",
       "      <td>1743</td>\n",
       "    </tr>\n",
       "    <tr>\n",
       "      <th>5</th>\n",
       "      <td>Football</td>\n",
       "      <td>1571</td>\n",
       "    </tr>\n",
       "    <tr>\n",
       "      <th>6</th>\n",
       "      <td>Ice Hockey</td>\n",
       "      <td>1530</td>\n",
       "    </tr>\n",
       "    <tr>\n",
       "      <th>7</th>\n",
       "      <td>Hockey</td>\n",
       "      <td>1528</td>\n",
       "    </tr>\n",
       "    <tr>\n",
       "      <th>8</th>\n",
       "      <td>Wrestling</td>\n",
       "      <td>1296</td>\n",
       "    </tr>\n",
       "    <tr>\n",
       "      <th>9</th>\n",
       "      <td>Cycling</td>\n",
       "      <td>1263</td>\n",
       "    </tr>\n",
       "  </tbody>\n",
       "</table>\n",
       "</div>"
      ],
      "text/plain": [
       "        Sport  medal_count\n",
       "0   Athletics         3969\n",
       "1    Swimming         3048\n",
       "2      Rowing         2945\n",
       "3  Gymnastics         2256\n",
       "4     Fencing         1743\n",
       "5    Football         1571\n",
       "6  Ice Hockey         1530\n",
       "7      Hockey         1528\n",
       "8   Wrestling         1296\n",
       "9     Cycling         1263"
      ]
     },
     "execution_count": 4,
     "metadata": {},
     "output_type": "execute_result"
    }
   ],
   "source": [
    "query = '''\n",
    "SELECT Sport, COUNT(Medal) AS medal_count\n",
    "FROM olympics\n",
    "WHERE Medal IS NOT NULL\n",
    "GROUP BY Sport\n",
    "ORDER BY medal_count DESC\n",
    "LIMIT 10;\n",
    "'''\n",
    "top_sports_sql = pd.read_sql_query(query, conn)\n",
    "top_sports_sql"
   ]
  },
  {
   "cell_type": "markdown",
   "id": "c2fd3511",
   "metadata": {},
   "source": [
    "## SQL: Top 10 NOCs by medal count"
   ]
  },
  {
   "cell_type": "code",
   "execution_count": 5,
   "id": "c91a4d16",
   "metadata": {},
   "outputs": [
    {
     "data": {
      "text/html": [
       "<div>\n",
       "<style scoped>\n",
       "    .dataframe tbody tr th:only-of-type {\n",
       "        vertical-align: middle;\n",
       "    }\n",
       "\n",
       "    .dataframe tbody tr th {\n",
       "        vertical-align: top;\n",
       "    }\n",
       "\n",
       "    .dataframe thead th {\n",
       "        text-align: right;\n",
       "    }\n",
       "</style>\n",
       "<table border=\"1\" class=\"dataframe\">\n",
       "  <thead>\n",
       "    <tr style=\"text-align: right;\">\n",
       "      <th></th>\n",
       "      <th>NOC</th>\n",
       "      <th>medal_count</th>\n",
       "    </tr>\n",
       "  </thead>\n",
       "  <tbody>\n",
       "    <tr>\n",
       "      <th>0</th>\n",
       "      <td>USA</td>\n",
       "      <td>5637</td>\n",
       "    </tr>\n",
       "    <tr>\n",
       "      <th>1</th>\n",
       "      <td>URS</td>\n",
       "      <td>2503</td>\n",
       "    </tr>\n",
       "    <tr>\n",
       "      <th>2</th>\n",
       "      <td>GER</td>\n",
       "      <td>2165</td>\n",
       "    </tr>\n",
       "    <tr>\n",
       "      <th>3</th>\n",
       "      <td>GBR</td>\n",
       "      <td>2068</td>\n",
       "    </tr>\n",
       "    <tr>\n",
       "      <th>4</th>\n",
       "      <td>FRA</td>\n",
       "      <td>1777</td>\n",
       "    </tr>\n",
       "    <tr>\n",
       "      <th>5</th>\n",
       "      <td>ITA</td>\n",
       "      <td>1637</td>\n",
       "    </tr>\n",
       "    <tr>\n",
       "      <th>6</th>\n",
       "      <td>SWE</td>\n",
       "      <td>1536</td>\n",
       "    </tr>\n",
       "    <tr>\n",
       "      <th>7</th>\n",
       "      <td>CAN</td>\n",
       "      <td>1352</td>\n",
       "    </tr>\n",
       "    <tr>\n",
       "      <th>8</th>\n",
       "      <td>AUS</td>\n",
       "      <td>1320</td>\n",
       "    </tr>\n",
       "    <tr>\n",
       "      <th>9</th>\n",
       "      <td>RUS</td>\n",
       "      <td>1165</td>\n",
       "    </tr>\n",
       "  </tbody>\n",
       "</table>\n",
       "</div>"
      ],
      "text/plain": [
       "   NOC  medal_count\n",
       "0  USA         5637\n",
       "1  URS         2503\n",
       "2  GER         2165\n",
       "3  GBR         2068\n",
       "4  FRA         1777\n",
       "5  ITA         1637\n",
       "6  SWE         1536\n",
       "7  CAN         1352\n",
       "8  AUS         1320\n",
       "9  RUS         1165"
      ]
     },
     "execution_count": 5,
     "metadata": {},
     "output_type": "execute_result"
    }
   ],
   "source": [
    "query = '''\n",
    "SELECT NOC, COUNT(Medal) AS medal_count\n",
    "FROM olympics\n",
    "WHERE Medal IS NOT NULL\n",
    "GROUP BY NOC\n",
    "ORDER BY medal_count DESC\n",
    "LIMIT 10;\n",
    "'''\n",
    "top_nocs_sql = pd.read_sql_query(query, conn)\n",
    "top_nocs_sql"
   ]
  },
  {
   "cell_type": "markdown",
   "id": "d7987691",
   "metadata": {},
   "source": [
    "## SQL: Gender participation per year (athlete counts)"
   ]
  },
  {
   "cell_type": "code",
   "execution_count": 6,
   "id": "2e39afc6",
   "metadata": {},
   "outputs": [
    {
     "data": {
      "text/html": [
       "<div>\n",
       "<style scoped>\n",
       "    .dataframe tbody tr th:only-of-type {\n",
       "        vertical-align: middle;\n",
       "    }\n",
       "\n",
       "    .dataframe tbody tr th {\n",
       "        vertical-align: top;\n",
       "    }\n",
       "\n",
       "    .dataframe thead th {\n",
       "        text-align: right;\n",
       "    }\n",
       "</style>\n",
       "<table border=\"1\" class=\"dataframe\">\n",
       "  <thead>\n",
       "    <tr style=\"text-align: right;\">\n",
       "      <th></th>\n",
       "      <th>Year</th>\n",
       "      <th>Sex</th>\n",
       "      <th>athletes_count</th>\n",
       "    </tr>\n",
       "  </thead>\n",
       "  <tbody>\n",
       "    <tr>\n",
       "      <th>0</th>\n",
       "      <td>1896</td>\n",
       "      <td>M</td>\n",
       "      <td>176</td>\n",
       "    </tr>\n",
       "    <tr>\n",
       "      <th>1</th>\n",
       "      <td>1900</td>\n",
       "      <td>F</td>\n",
       "      <td>23</td>\n",
       "    </tr>\n",
       "    <tr>\n",
       "      <th>2</th>\n",
       "      <td>1900</td>\n",
       "      <td>M</td>\n",
       "      <td>1201</td>\n",
       "    </tr>\n",
       "    <tr>\n",
       "      <th>3</th>\n",
       "      <td>1904</td>\n",
       "      <td>F</td>\n",
       "      <td>6</td>\n",
       "    </tr>\n",
       "    <tr>\n",
       "      <th>4</th>\n",
       "      <td>1904</td>\n",
       "      <td>M</td>\n",
       "      <td>644</td>\n",
       "    </tr>\n",
       "  </tbody>\n",
       "</table>\n",
       "</div>"
      ],
      "text/plain": [
       "   Year Sex  athletes_count\n",
       "0  1896   M             176\n",
       "1  1900   F              23\n",
       "2  1900   M            1201\n",
       "3  1904   F               6\n",
       "4  1904   M             644"
      ]
     },
     "execution_count": 6,
     "metadata": {},
     "output_type": "execute_result"
    }
   ],
   "source": [
    "query = '''\n",
    "SELECT Year, Sex, COUNT(DISTINCT ID) AS athletes_count\n",
    "FROM olympics\n",
    "GROUP BY Year, Sex\n",
    "ORDER BY Year;\n",
    "'''\n",
    "gender_participation = pd.read_sql_query(query, conn)\n",
    "gender_participation.head()"
   ]
  },
  {
   "cell_type": "markdown",
   "id": "db33548f",
   "metadata": {},
   "source": [
    "## Notes\n",
    "- These queries run on an **in-memory** SQLite database created from the CSV. \n",
    "- For larger/external DBs use PostgreSQL and the loader script."
   ]
  }
 ],
 "metadata": {
  "kernelspec": {
   "display_name": "Python 3",
   "language": "python",
   "name": "python3"
  },
  "language_info": {
   "codemirror_mode": {
    "name": "ipython",
    "version": 3
   },
   "file_extension": ".py",
   "mimetype": "text/x-python",
   "name": "python",
   "nbconvert_exporter": "python",
   "pygments_lexer": "ipython3",
   "version": "3.13.7"
  }
 },
 "nbformat": 4,
 "nbformat_minor": 5
}
