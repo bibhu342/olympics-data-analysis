{
 "cells": [
  {
   "cell_type": "markdown",
   "id": "def7f104",
   "metadata": {},
   "source": [
    "# Olympics Capstone — Consolidated Notebook\n",
    "\n",
    "This merged notebook combines Milestones 1–4 (SQL + Python analysis, EDA, modeling, and storytelling). Run cells sequentially. Data path expected: `C:\\Users\\Adithya\\Downloads\\Bibhu\\SQL\\athlete_events\\data`.\n"
   ]
  },
  {
   "cell_type": "markdown",
   "id": "e7490f9f",
   "metadata": {},
   "source": [
    "---\n",
    "\n",
    "## Included from `milestone1_sql_analysis.ipynb`\n",
    "\n",
    "# Milestone 1 — SQL Analysis (SQLite)\n",
    "\n",
    "\n"
   ]
  },
  {
   "cell_type": "code",
   "execution_count": 1,
   "id": "552364f6",
   "metadata": {},
   "outputs": [
    {
     "name": "stdout",
     "output_type": "stream",
     "text": [
      "Using data path: C:\\Users\\Adithya\\Downloads\\Bibhu\\SQL\\athlete_events\\data\\athlete_events.csv\n",
      "Loaded CSV with shape: (271116, 15)\n"
     ]
    }
   ],
   "source": [
    "# Setup: imports + data path\n",
    "from pathlib import Path\n",
    "import pandas as pd\n",
    "import numpy as np\n",
    "import matplotlib.pyplot as plt\n",
    "import seaborn as sns\n",
    "import sqlite3\n",
    "import statsmodels.api as sm\n",
    "import warnings\n",
    "warnings.filterwarnings(\"ignore\")\n",
    "%matplotlib inline\n",
    "\n",
    "# Local data path (update if different)\n",
    "data_dir = Path(r\"C:\\Users\\Adithya\\Downloads\\Bibhu\\SQL\\athlete_events\\data\")\n",
    "athletes_fp = data_dir / \"athlete_events.csv\"\n",
    "noc_fp = data_dir / \"noc_regions.csv\"\n",
    "\n",
    "print(\"Using data path:\", athletes_fp)\n",
    "if not athletes_fp.exists():\n",
    "    raise FileNotFoundError(f\"athlete_events.csv not found at {athletes_fp}. Place the CSV in this folder and re-run the notebook.\")\n",
    "# load CSV into pandas\n",
    "df = pd.read_csv(athletes_fp, low_memory=False)\n",
    "print(\"Loaded CSV with shape:\", df.shape)\n",
    "# standard helpers\n",
    "df['Year'] = df['Year'].astype(int)\n",
    "df['is_medal'] = df['Medal'].notna()\n"
   ]
  },
  {
   "cell_type": "markdown",
   "id": "51eef52e",
   "metadata": {},
   "source": [
    "## Create in-memory SQLite DB and load dataframe as a SQL table"
   ]
  },
  {
   "cell_type": "code",
   "execution_count": 2,
   "id": "45979ba7",
   "metadata": {},
   "outputs": [
    {
     "name": "stdout",
     "output_type": "stream",
     "text": [
      "Table olympics created in SQLite in-memory DB\n"
     ]
    }
   ],
   "source": [
    "# Create in-memory SQLite DB and populate 'olympics' table\n",
    "conn = sqlite3.connect(':memory:')\n",
    "df.to_sql('olympics', conn, index=False, if_exists='replace')\n",
    "print('Table olympics created in SQLite in-memory DB')"
   ]
  },
  {
   "cell_type": "markdown",
   "id": "c64bf259",
   "metadata": {},
   "source": [
    "## SQL: Medals over time (example query)"
   ]
  },
  {
   "cell_type": "code",
   "execution_count": 3,
   "id": "61b7a6e3",
   "metadata": {},
   "outputs": [
    {
     "data": {
      "text/html": [
       "<div>\n",
       "<style scoped>\n",
       "    .dataframe tbody tr th:only-of-type {\n",
       "        vertical-align: middle;\n",
       "    }\n",
       "\n",
       "    .dataframe tbody tr th {\n",
       "        vertical-align: top;\n",
       "    }\n",
       "\n",
       "    .dataframe thead th {\n",
       "        text-align: right;\n",
       "    }\n",
       "</style>\n",
       "<table border=\"1\" class=\"dataframe\">\n",
       "  <thead>\n",
       "    <tr style=\"text-align: right;\">\n",
       "      <th></th>\n",
       "      <th>Year</th>\n",
       "      <th>total_medals</th>\n",
       "    </tr>\n",
       "  </thead>\n",
       "  <tbody>\n",
       "    <tr>\n",
       "      <th>0</th>\n",
       "      <td>1896</td>\n",
       "      <td>143</td>\n",
       "    </tr>\n",
       "    <tr>\n",
       "      <th>1</th>\n",
       "      <td>1900</td>\n",
       "      <td>604</td>\n",
       "    </tr>\n",
       "    <tr>\n",
       "      <th>2</th>\n",
       "      <td>1904</td>\n",
       "      <td>486</td>\n",
       "    </tr>\n",
       "    <tr>\n",
       "      <th>3</th>\n",
       "      <td>1906</td>\n",
       "      <td>458</td>\n",
       "    </tr>\n",
       "    <tr>\n",
       "      <th>4</th>\n",
       "      <td>1908</td>\n",
       "      <td>831</td>\n",
       "    </tr>\n",
       "  </tbody>\n",
       "</table>\n",
       "</div>"
      ],
      "text/plain": [
       "   Year  total_medals\n",
       "0  1896           143\n",
       "1  1900           604\n",
       "2  1904           486\n",
       "3  1906           458\n",
       "4  1908           831"
      ]
     },
     "execution_count": 3,
     "metadata": {},
     "output_type": "execute_result"
    }
   ],
   "source": [
    "import pandas as pd\n",
    "query = '''\n",
    "SELECT Year, COUNT(Medal) AS total_medals\n",
    "FROM olympics\n",
    "WHERE Medal IS NOT NULL\n",
    "GROUP BY Year\n",
    "ORDER BY Year;\n",
    "'''\n",
    "medals_over_time = pd.read_sql_query(query, conn)\n",
    "medals_over_time.head()"
   ]
  },
  {
   "cell_type": "markdown",
   "id": "1ac8dd1c",
   "metadata": {},
   "source": [
    "## SQL: Top 10 sports by medal count"
   ]
  },
  {
   "cell_type": "code",
   "execution_count": 4,
   "id": "81551e58",
   "metadata": {},
   "outputs": [
    {
     "data": {
      "text/html": [
       "<div>\n",
       "<style scoped>\n",
       "    .dataframe tbody tr th:only-of-type {\n",
       "        vertical-align: middle;\n",
       "    }\n",
       "\n",
       "    .dataframe tbody tr th {\n",
       "        vertical-align: top;\n",
       "    }\n",
       "\n",
       "    .dataframe thead th {\n",
       "        text-align: right;\n",
       "    }\n",
       "</style>\n",
       "<table border=\"1\" class=\"dataframe\">\n",
       "  <thead>\n",
       "    <tr style=\"text-align: right;\">\n",
       "      <th></th>\n",
       "      <th>Sport</th>\n",
       "      <th>medal_count</th>\n",
       "    </tr>\n",
       "  </thead>\n",
       "  <tbody>\n",
       "    <tr>\n",
       "      <th>0</th>\n",
       "      <td>Athletics</td>\n",
       "      <td>3969</td>\n",
       "    </tr>\n",
       "    <tr>\n",
       "      <th>1</th>\n",
       "      <td>Swimming</td>\n",
       "      <td>3048</td>\n",
       "    </tr>\n",
       "    <tr>\n",
       "      <th>2</th>\n",
       "      <td>Rowing</td>\n",
       "      <td>2945</td>\n",
       "    </tr>\n",
       "    <tr>\n",
       "      <th>3</th>\n",
       "      <td>Gymnastics</td>\n",
       "      <td>2256</td>\n",
       "    </tr>\n",
       "    <tr>\n",
       "      <th>4</th>\n",
       "      <td>Fencing</td>\n",
       "      <td>1743</td>\n",
       "    </tr>\n",
       "    <tr>\n",
       "      <th>5</th>\n",
       "      <td>Football</td>\n",
       "      <td>1571</td>\n",
       "    </tr>\n",
       "    <tr>\n",
       "      <th>6</th>\n",
       "      <td>Ice Hockey</td>\n",
       "      <td>1530</td>\n",
       "    </tr>\n",
       "    <tr>\n",
       "      <th>7</th>\n",
       "      <td>Hockey</td>\n",
       "      <td>1528</td>\n",
       "    </tr>\n",
       "    <tr>\n",
       "      <th>8</th>\n",
       "      <td>Wrestling</td>\n",
       "      <td>1296</td>\n",
       "    </tr>\n",
       "    <tr>\n",
       "      <th>9</th>\n",
       "      <td>Cycling</td>\n",
       "      <td>1263</td>\n",
       "    </tr>\n",
       "  </tbody>\n",
       "</table>\n",
       "</div>"
      ],
      "text/plain": [
       "        Sport  medal_count\n",
       "0   Athletics         3969\n",
       "1    Swimming         3048\n",
       "2      Rowing         2945\n",
       "3  Gymnastics         2256\n",
       "4     Fencing         1743\n",
       "5    Football         1571\n",
       "6  Ice Hockey         1530\n",
       "7      Hockey         1528\n",
       "8   Wrestling         1296\n",
       "9     Cycling         1263"
      ]
     },
     "execution_count": 4,
     "metadata": {},
     "output_type": "execute_result"
    }
   ],
   "source": [
    "query = '''\n",
    "SELECT Sport, COUNT(Medal) AS medal_count\n",
    "FROM olympics\n",
    "WHERE Medal IS NOT NULL\n",
    "GROUP BY Sport\n",
    "ORDER BY medal_count DESC\n",
    "LIMIT 10;\n",
    "'''\n",
    "top_sports_sql = pd.read_sql_query(query, conn)\n",
    "top_sports_sql"
   ]
  },
  {
   "cell_type": "markdown",
   "id": "c2fd3511",
   "metadata": {},
   "source": [
    "## SQL: Top 10 NOCs by medal count"
   ]
  },
  {
   "cell_type": "code",
   "execution_count": 5,
   "id": "c91a4d16",
   "metadata": {},
   "outputs": [
    {
     "data": {
      "text/html": [
       "<div>\n",
       "<style scoped>\n",
       "    .dataframe tbody tr th:only-of-type {\n",
       "        vertical-align: middle;\n",
       "    }\n",
       "\n",
       "    .dataframe tbody tr th {\n",
       "        vertical-align: top;\n",
       "    }\n",
       "\n",
       "    .dataframe thead th {\n",
       "        text-align: right;\n",
       "    }\n",
       "</style>\n",
       "<table border=\"1\" class=\"dataframe\">\n",
       "  <thead>\n",
       "    <tr style=\"text-align: right;\">\n",
       "      <th></th>\n",
       "      <th>NOC</th>\n",
       "      <th>medal_count</th>\n",
       "    </tr>\n",
       "  </thead>\n",
       "  <tbody>\n",
       "    <tr>\n",
       "      <th>0</th>\n",
       "      <td>USA</td>\n",
       "      <td>5637</td>\n",
       "    </tr>\n",
       "    <tr>\n",
       "      <th>1</th>\n",
       "      <td>URS</td>\n",
       "      <td>2503</td>\n",
       "    </tr>\n",
       "    <tr>\n",
       "      <th>2</th>\n",
       "      <td>GER</td>\n",
       "      <td>2165</td>\n",
       "    </tr>\n",
       "    <tr>\n",
       "      <th>3</th>\n",
       "      <td>GBR</td>\n",
       "      <td>2068</td>\n",
       "    </tr>\n",
       "    <tr>\n",
       "      <th>4</th>\n",
       "      <td>FRA</td>\n",
       "      <td>1777</td>\n",
       "    </tr>\n",
       "    <tr>\n",
       "      <th>5</th>\n",
       "      <td>ITA</td>\n",
       "      <td>1637</td>\n",
       "    </tr>\n",
       "    <tr>\n",
       "      <th>6</th>\n",
       "      <td>SWE</td>\n",
       "      <td>1536</td>\n",
       "    </tr>\n",
       "    <tr>\n",
       "      <th>7</th>\n",
       "      <td>CAN</td>\n",
       "      <td>1352</td>\n",
       "    </tr>\n",
       "    <tr>\n",
       "      <th>8</th>\n",
       "      <td>AUS</td>\n",
       "      <td>1320</td>\n",
       "    </tr>\n",
       "    <tr>\n",
       "      <th>9</th>\n",
       "      <td>RUS</td>\n",
       "      <td>1165</td>\n",
       "    </tr>\n",
       "  </tbody>\n",
       "</table>\n",
       "</div>"
      ],
      "text/plain": [
       "   NOC  medal_count\n",
       "0  USA         5637\n",
       "1  URS         2503\n",
       "2  GER         2165\n",
       "3  GBR         2068\n",
       "4  FRA         1777\n",
       "5  ITA         1637\n",
       "6  SWE         1536\n",
       "7  CAN         1352\n",
       "8  AUS         1320\n",
       "9  RUS         1165"
      ]
     },
     "execution_count": 5,
     "metadata": {},
     "output_type": "execute_result"
    }
   ],
   "source": [
    "query = '''\n",
    "SELECT NOC, COUNT(Medal) AS medal_count\n",
    "FROM olympics\n",
    "WHERE Medal IS NOT NULL\n",
    "GROUP BY NOC\n",
    "ORDER BY medal_count DESC\n",
    "LIMIT 10;\n",
    "'''\n",
    "top_nocs_sql = pd.read_sql_query(query, conn)\n",
    "top_nocs_sql"
   ]
  },
  {
   "cell_type": "markdown",
   "id": "d7987691",
   "metadata": {},
   "source": [
    "## SQL: Gender participation per year (athlete counts)"
   ]
  },
  {
   "cell_type": "code",
   "execution_count": 6,
   "id": "2e39afc6",
   "metadata": {},
   "outputs": [
    {
     "data": {
      "text/html": [
       "<div>\n",
       "<style scoped>\n",
       "    .dataframe tbody tr th:only-of-type {\n",
       "        vertical-align: middle;\n",
       "    }\n",
       "\n",
       "    .dataframe tbody tr th {\n",
       "        vertical-align: top;\n",
       "    }\n",
       "\n",
       "    .dataframe thead th {\n",
       "        text-align: right;\n",
       "    }\n",
       "</style>\n",
       "<table border=\"1\" class=\"dataframe\">\n",
       "  <thead>\n",
       "    <tr style=\"text-align: right;\">\n",
       "      <th></th>\n",
       "      <th>Year</th>\n",
       "      <th>Sex</th>\n",
       "      <th>athletes_count</th>\n",
       "    </tr>\n",
       "  </thead>\n",
       "  <tbody>\n",
       "    <tr>\n",
       "      <th>0</th>\n",
       "      <td>1896</td>\n",
       "      <td>M</td>\n",
       "      <td>176</td>\n",
       "    </tr>\n",
       "    <tr>\n",
       "      <th>1</th>\n",
       "      <td>1900</td>\n",
       "      <td>F</td>\n",
       "      <td>23</td>\n",
       "    </tr>\n",
       "    <tr>\n",
       "      <th>2</th>\n",
       "      <td>1900</td>\n",
       "      <td>M</td>\n",
       "      <td>1201</td>\n",
       "    </tr>\n",
       "    <tr>\n",
       "      <th>3</th>\n",
       "      <td>1904</td>\n",
       "      <td>F</td>\n",
       "      <td>6</td>\n",
       "    </tr>\n",
       "    <tr>\n",
       "      <th>4</th>\n",
       "      <td>1904</td>\n",
       "      <td>M</td>\n",
       "      <td>644</td>\n",
       "    </tr>\n",
       "  </tbody>\n",
       "</table>\n",
       "</div>"
      ],
      "text/plain": [
       "   Year Sex  athletes_count\n",
       "0  1896   M             176\n",
       "1  1900   F              23\n",
       "2  1900   M            1201\n",
       "3  1904   F               6\n",
       "4  1904   M             644"
      ]
     },
     "execution_count": 6,
     "metadata": {},
     "output_type": "execute_result"
    }
   ],
   "source": [
    "query = '''\n",
    "SELECT Year, Sex, COUNT(DISTINCT ID) AS athletes_count\n",
    "FROM olympics\n",
    "GROUP BY Year, Sex\n",
    "ORDER BY Year;\n",
    "'''\n",
    "gender_participation = pd.read_sql_query(query, conn)\n",
    "gender_participation.head()"
   ]
  },
  {
   "cell_type": "markdown",
   "id": "db33548f",
   "metadata": {},
   "source": [
    "## Notes\n",
    "- These queries run on an **in-memory** SQLite database created from the CSV. \n",
    "- For larger/external DBs use PostgreSQL and the loader script."
   ]
  },
  {
   "cell_type": "markdown",
   "id": "ed6a2e3a",
   "metadata": {},
   "source": [
    "---\n",
    "\n",
    "## Included from `milestone2_descriptive.ipynb`\n",
    "\n",
    "# Milestone 2 — Descriptive Analysis (SQL + Python)\n",
    "\n",
    "\n"
   ]
  },
  {
   "cell_type": "code",
   "execution_count": 7,
   "id": "47f021ef",
   "metadata": {},
   "outputs": [
    {
     "name": "stdout",
     "output_type": "stream",
     "text": [
      "Using data path: C:\\Users\\Adithya\\Downloads\\Bibhu\\SQL\\athlete_events\\data\\athlete_events.csv\n",
      "Loaded CSV with shape: (271116, 15)\n"
     ]
    }
   ],
   "source": [
    "# Setup: imports + data path\n",
    "from pathlib import Path\n",
    "import pandas as pd\n",
    "import numpy as np\n",
    "import matplotlib.pyplot as plt\n",
    "import seaborn as sns\n",
    "import sqlite3\n",
    "import statsmodels.api as sm\n",
    "import warnings\n",
    "warnings.filterwarnings(\"ignore\")\n",
    "%matplotlib inline\n",
    "\n",
    "# Local data path (update if different)\n",
    "data_dir = Path(r\"C:\\Users\\Adithya\\Downloads\\Bibhu\\SQL\\athlete_events\\data\")\n",
    "athletes_fp = data_dir / \"athlete_events.csv\"\n",
    "noc_fp = data_dir / \"noc_regions.csv\"\n",
    "\n",
    "print(\"Using data path:\", athletes_fp)\n",
    "if not athletes_fp.exists():\n",
    "    raise FileNotFoundError(f\"athlete_events.csv not found at {athletes_fp}. Place the CSV in this folder and re-run the notebook.\")\n",
    "# load CSV into pandas\n",
    "df = pd.read_csv(athletes_fp, low_memory=False)\n",
    "print(\"Loaded CSV with shape:\", df.shape)\n",
    "# standard helpers\n",
    "df['Year'] = df['Year'].astype(int)\n",
    "df['is_medal'] = df['Medal'].notna()\n"
   ]
  },
  {
   "cell_type": "code",
   "execution_count": 8,
   "id": "b306c6e1",
   "metadata": {},
   "outputs": [
    {
     "name": "stdout",
     "output_type": "stream",
     "text": [
      "SQLite DB ready\n"
     ]
    }
   ],
   "source": [
    "# Create in-memory SQLite DB\n",
    "conn = sqlite3.connect(':memory:')\n",
    "df.to_sql('olympics', conn, index=False, if_exists='replace')\n",
    "print('SQLite DB ready')"
   ]
  },
  {
   "cell_type": "markdown",
   "id": "9a816fd7",
   "metadata": {},
   "source": [
    "## 1) Medal counts and basic distributions (SQL)"
   ]
  },
  {
   "cell_type": "code",
   "execution_count": 9,
   "id": "7b8cef4b",
   "metadata": {},
   "outputs": [
    {
     "data": {
      "text/html": [
       "<div>\n",
       "<style scoped>\n",
       "    .dataframe tbody tr th:only-of-type {\n",
       "        vertical-align: middle;\n",
       "    }\n",
       "\n",
       "    .dataframe tbody tr th {\n",
       "        vertical-align: top;\n",
       "    }\n",
       "\n",
       "    .dataframe thead th {\n",
       "        text-align: right;\n",
       "    }\n",
       "</style>\n",
       "<table border=\"1\" class=\"dataframe\">\n",
       "  <thead>\n",
       "    <tr style=\"text-align: right;\">\n",
       "      <th></th>\n",
       "      <th>Medal</th>\n",
       "      <th>count</th>\n",
       "    </tr>\n",
       "  </thead>\n",
       "  <tbody>\n",
       "    <tr>\n",
       "      <th>0</th>\n",
       "      <td>None</td>\n",
       "      <td>231333</td>\n",
       "    </tr>\n",
       "    <tr>\n",
       "      <th>1</th>\n",
       "      <td>Gold</td>\n",
       "      <td>13372</td>\n",
       "    </tr>\n",
       "    <tr>\n",
       "      <th>2</th>\n",
       "      <td>Bronze</td>\n",
       "      <td>13295</td>\n",
       "    </tr>\n",
       "    <tr>\n",
       "      <th>3</th>\n",
       "      <td>Silver</td>\n",
       "      <td>13116</td>\n",
       "    </tr>\n",
       "  </tbody>\n",
       "</table>\n",
       "</div>"
      ],
      "text/plain": [
       "    Medal   count\n",
       "0    None  231333\n",
       "1    Gold   13372\n",
       "2  Bronze   13295\n",
       "3  Silver   13116"
      ]
     },
     "execution_count": 9,
     "metadata": {},
     "output_type": "execute_result"
    }
   ],
   "source": [
    "query = '''\n",
    "SELECT Medal, COUNT(*) as count\n",
    "FROM olympics\n",
    "GROUP BY Medal\n",
    "ORDER BY count DESC;\n",
    "'''\n",
    "medal_counts = pd.read_sql_query(query, conn)\n",
    "medal_counts"
   ]
  },
  {
   "cell_type": "markdown",
   "id": "4dd6c66d",
   "metadata": {},
   "source": [
    "## 2) Gender distribution overall and by decade (SQL + Python)"
   ]
  },
  {
   "cell_type": "code",
   "execution_count": 10,
   "id": "cac4590f",
   "metadata": {},
   "outputs": [
    {
     "data": {
      "text/html": [
       "<div>\n",
       "<style scoped>\n",
       "    .dataframe tbody tr th:only-of-type {\n",
       "        vertical-align: middle;\n",
       "    }\n",
       "\n",
       "    .dataframe tbody tr th {\n",
       "        vertical-align: top;\n",
       "    }\n",
       "\n",
       "    .dataframe thead th {\n",
       "        text-align: right;\n",
       "    }\n",
       "</style>\n",
       "<table border=\"1\" class=\"dataframe\">\n",
       "  <thead>\n",
       "    <tr style=\"text-align: right;\">\n",
       "      <th></th>\n",
       "      <th>Sex</th>\n",
       "      <th>athletes</th>\n",
       "    </tr>\n",
       "  </thead>\n",
       "  <tbody>\n",
       "    <tr>\n",
       "      <th>0</th>\n",
       "      <td>F</td>\n",
       "      <td>33981</td>\n",
       "    </tr>\n",
       "    <tr>\n",
       "      <th>1</th>\n",
       "      <td>M</td>\n",
       "      <td>101590</td>\n",
       "    </tr>\n",
       "  </tbody>\n",
       "</table>\n",
       "</div>"
      ],
      "text/plain": [
       "  Sex  athletes\n",
       "0   F     33981\n",
       "1   M    101590"
      ]
     },
     "execution_count": 10,
     "metadata": {},
     "output_type": "execute_result"
    }
   ],
   "source": [
    "# gender overall\n",
    "query = \"\"\"\n",
    "SELECT Sex, COUNT(DISTINCT ID) as athletes\n",
    "FROM olympics\n",
    "GROUP BY Sex;\n",
    "\"\"\"\n",
    "gender_overall = pd.read_sql_query(query, conn)\n",
    "gender_overall"
   ]
  },
  {
   "cell_type": "code",
   "execution_count": 11,
   "id": "4bbfed10",
   "metadata": {},
   "outputs": [
    {
     "data": {
      "text/html": [
       "<div>\n",
       "<style scoped>\n",
       "    .dataframe tbody tr th:only-of-type {\n",
       "        vertical-align: middle;\n",
       "    }\n",
       "\n",
       "    .dataframe tbody tr th {\n",
       "        vertical-align: top;\n",
       "    }\n",
       "\n",
       "    .dataframe thead th {\n",
       "        text-align: right;\n",
       "    }\n",
       "</style>\n",
       "<table border=\"1\" class=\"dataframe\">\n",
       "  <thead>\n",
       "    <tr style=\"text-align: right;\">\n",
       "      <th>Sex</th>\n",
       "      <th>F</th>\n",
       "      <th>M</th>\n",
       "    </tr>\n",
       "    <tr>\n",
       "      <th>Decade</th>\n",
       "      <th></th>\n",
       "      <th></th>\n",
       "    </tr>\n",
       "  </thead>\n",
       "  <tbody>\n",
       "    <tr>\n",
       "      <th>1890</th>\n",
       "      <td>0.0</td>\n",
       "      <td>380.0</td>\n",
       "    </tr>\n",
       "    <tr>\n",
       "      <th>1900</th>\n",
       "      <td>107.0</td>\n",
       "      <td>7964.0</td>\n",
       "    </tr>\n",
       "    <tr>\n",
       "      <th>1910</th>\n",
       "      <td>87.0</td>\n",
       "      <td>3953.0</td>\n",
       "    </tr>\n",
       "    <tr>\n",
       "      <th>1920</th>\n",
       "      <td>832.0</td>\n",
       "      <td>14727.0</td>\n",
       "    </tr>\n",
       "    <tr>\n",
       "      <th>1930</th>\n",
       "      <td>918.0</td>\n",
       "      <td>9804.0</td>\n",
       "    </tr>\n",
       "  </tbody>\n",
       "</table>\n",
       "</div>"
      ],
      "text/plain": [
       "Sex         F        M\n",
       "Decade                \n",
       "1890      0.0    380.0\n",
       "1900    107.0   7964.0\n",
       "1910     87.0   3953.0\n",
       "1920    832.0  14727.0\n",
       "1930    918.0   9804.0"
      ]
     },
     "execution_count": 11,
     "metadata": {},
     "output_type": "execute_result"
    }
   ],
   "source": [
    "# gender by decade via SQL\n",
    "query = \"\"\"\n",
    "SELECT ((Year/10)*10) as Decade, Sex, COUNT(*) as records\n",
    "FROM olympics\n",
    "GROUP BY Decade, Sex\n",
    "ORDER BY Decade;\n",
    "\"\"\"\n",
    "gender_by_decade = pd.read_sql_query(query, conn)\n",
    "# pivot for plotting\n",
    "gender_pivot = gender_by_decade.pivot(index='Decade', columns='Sex', values='records').fillna(0)\n",
    "gender_pivot.head()"
   ]
  },
  {
   "cell_type": "markdown",
   "id": "84974ddf",
   "metadata": {},
   "source": [
    "## 3) Top sports & NOCs by medal-winning entries (SQL)"
   ]
  },
  {
   "cell_type": "code",
   "execution_count": 12,
   "id": "2908ff7e",
   "metadata": {},
   "outputs": [
    {
     "data": {
      "text/html": [
       "<div>\n",
       "<style scoped>\n",
       "    .dataframe tbody tr th:only-of-type {\n",
       "        vertical-align: middle;\n",
       "    }\n",
       "\n",
       "    .dataframe tbody tr th {\n",
       "        vertical-align: top;\n",
       "    }\n",
       "\n",
       "    .dataframe thead th {\n",
       "        text-align: right;\n",
       "    }\n",
       "</style>\n",
       "<table border=\"1\" class=\"dataframe\">\n",
       "  <thead>\n",
       "    <tr style=\"text-align: right;\">\n",
       "      <th></th>\n",
       "      <th>Sport</th>\n",
       "      <th>medal_count</th>\n",
       "    </tr>\n",
       "  </thead>\n",
       "  <tbody>\n",
       "    <tr>\n",
       "      <th>0</th>\n",
       "      <td>Athletics</td>\n",
       "      <td>3969</td>\n",
       "    </tr>\n",
       "    <tr>\n",
       "      <th>1</th>\n",
       "      <td>Swimming</td>\n",
       "      <td>3048</td>\n",
       "    </tr>\n",
       "    <tr>\n",
       "      <th>2</th>\n",
       "      <td>Rowing</td>\n",
       "      <td>2945</td>\n",
       "    </tr>\n",
       "    <tr>\n",
       "      <th>3</th>\n",
       "      <td>Gymnastics</td>\n",
       "      <td>2256</td>\n",
       "    </tr>\n",
       "    <tr>\n",
       "      <th>4</th>\n",
       "      <td>Fencing</td>\n",
       "      <td>1743</td>\n",
       "    </tr>\n",
       "    <tr>\n",
       "      <th>5</th>\n",
       "      <td>Football</td>\n",
       "      <td>1571</td>\n",
       "    </tr>\n",
       "    <tr>\n",
       "      <th>6</th>\n",
       "      <td>Ice Hockey</td>\n",
       "      <td>1530</td>\n",
       "    </tr>\n",
       "    <tr>\n",
       "      <th>7</th>\n",
       "      <td>Hockey</td>\n",
       "      <td>1528</td>\n",
       "    </tr>\n",
       "    <tr>\n",
       "      <th>8</th>\n",
       "      <td>Wrestling</td>\n",
       "      <td>1296</td>\n",
       "    </tr>\n",
       "    <tr>\n",
       "      <th>9</th>\n",
       "      <td>Cycling</td>\n",
       "      <td>1263</td>\n",
       "    </tr>\n",
       "    <tr>\n",
       "      <th>10</th>\n",
       "      <td>Sailing</td>\n",
       "      <td>1232</td>\n",
       "    </tr>\n",
       "    <tr>\n",
       "      <th>11</th>\n",
       "      <td>Shooting</td>\n",
       "      <td>1228</td>\n",
       "    </tr>\n",
       "    <tr>\n",
       "      <th>12</th>\n",
       "      <td>Canoeing</td>\n",
       "      <td>1165</td>\n",
       "    </tr>\n",
       "    <tr>\n",
       "      <th>13</th>\n",
       "      <td>Basketball</td>\n",
       "      <td>1080</td>\n",
       "    </tr>\n",
       "    <tr>\n",
       "      <th>14</th>\n",
       "      <td>Handball</td>\n",
       "      <td>1060</td>\n",
       "    </tr>\n",
       "  </tbody>\n",
       "</table>\n",
       "</div>"
      ],
      "text/plain": [
       "         Sport  medal_count\n",
       "0    Athletics         3969\n",
       "1     Swimming         3048\n",
       "2       Rowing         2945\n",
       "3   Gymnastics         2256\n",
       "4      Fencing         1743\n",
       "5     Football         1571\n",
       "6   Ice Hockey         1530\n",
       "7       Hockey         1528\n",
       "8    Wrestling         1296\n",
       "9      Cycling         1263\n",
       "10     Sailing         1232\n",
       "11    Shooting         1228\n",
       "12    Canoeing         1165\n",
       "13  Basketball         1080\n",
       "14    Handball         1060"
      ]
     },
     "execution_count": 12,
     "metadata": {},
     "output_type": "execute_result"
    }
   ],
   "source": [
    "query = '''\n",
    "SELECT Sport, COUNT(Medal) AS medal_count\n",
    "FROM olympics\n",
    "WHERE Medal IS NOT NULL\n",
    "GROUP BY Sport\n",
    "ORDER BY medal_count DESC\n",
    "LIMIT 15;\n",
    "'''\n",
    "top_sports = pd.read_sql_query(query, conn)\n",
    "top_sports"
   ]
  },
  {
   "cell_type": "code",
   "execution_count": 13,
   "id": "20c9fd43",
   "metadata": {},
   "outputs": [
    {
     "data": {
      "text/html": [
       "<div>\n",
       "<style scoped>\n",
       "    .dataframe tbody tr th:only-of-type {\n",
       "        vertical-align: middle;\n",
       "    }\n",
       "\n",
       "    .dataframe tbody tr th {\n",
       "        vertical-align: top;\n",
       "    }\n",
       "\n",
       "    .dataframe thead th {\n",
       "        text-align: right;\n",
       "    }\n",
       "</style>\n",
       "<table border=\"1\" class=\"dataframe\">\n",
       "  <thead>\n",
       "    <tr style=\"text-align: right;\">\n",
       "      <th></th>\n",
       "      <th>NOC</th>\n",
       "      <th>medal_count</th>\n",
       "    </tr>\n",
       "  </thead>\n",
       "  <tbody>\n",
       "    <tr>\n",
       "      <th>0</th>\n",
       "      <td>USA</td>\n",
       "      <td>5637</td>\n",
       "    </tr>\n",
       "    <tr>\n",
       "      <th>1</th>\n",
       "      <td>URS</td>\n",
       "      <td>2503</td>\n",
       "    </tr>\n",
       "    <tr>\n",
       "      <th>2</th>\n",
       "      <td>GER</td>\n",
       "      <td>2165</td>\n",
       "    </tr>\n",
       "    <tr>\n",
       "      <th>3</th>\n",
       "      <td>GBR</td>\n",
       "      <td>2068</td>\n",
       "    </tr>\n",
       "    <tr>\n",
       "      <th>4</th>\n",
       "      <td>FRA</td>\n",
       "      <td>1777</td>\n",
       "    </tr>\n",
       "    <tr>\n",
       "      <th>5</th>\n",
       "      <td>ITA</td>\n",
       "      <td>1637</td>\n",
       "    </tr>\n",
       "    <tr>\n",
       "      <th>6</th>\n",
       "      <td>SWE</td>\n",
       "      <td>1536</td>\n",
       "    </tr>\n",
       "    <tr>\n",
       "      <th>7</th>\n",
       "      <td>CAN</td>\n",
       "      <td>1352</td>\n",
       "    </tr>\n",
       "    <tr>\n",
       "      <th>8</th>\n",
       "      <td>AUS</td>\n",
       "      <td>1320</td>\n",
       "    </tr>\n",
       "    <tr>\n",
       "      <th>9</th>\n",
       "      <td>RUS</td>\n",
       "      <td>1165</td>\n",
       "    </tr>\n",
       "    <tr>\n",
       "      <th>10</th>\n",
       "      <td>HUN</td>\n",
       "      <td>1135</td>\n",
       "    </tr>\n",
       "    <tr>\n",
       "      <th>11</th>\n",
       "      <td>NED</td>\n",
       "      <td>1040</td>\n",
       "    </tr>\n",
       "    <tr>\n",
       "      <th>12</th>\n",
       "      <td>NOR</td>\n",
       "      <td>1033</td>\n",
       "    </tr>\n",
       "    <tr>\n",
       "      <th>13</th>\n",
       "      <td>GDR</td>\n",
       "      <td>1005</td>\n",
       "    </tr>\n",
       "    <tr>\n",
       "      <th>14</th>\n",
       "      <td>CHN</td>\n",
       "      <td>989</td>\n",
       "    </tr>\n",
       "  </tbody>\n",
       "</table>\n",
       "</div>"
      ],
      "text/plain": [
       "    NOC  medal_count\n",
       "0   USA         5637\n",
       "1   URS         2503\n",
       "2   GER         2165\n",
       "3   GBR         2068\n",
       "4   FRA         1777\n",
       "5   ITA         1637\n",
       "6   SWE         1536\n",
       "7   CAN         1352\n",
       "8   AUS         1320\n",
       "9   RUS         1165\n",
       "10  HUN         1135\n",
       "11  NED         1040\n",
       "12  NOR         1033\n",
       "13  GDR         1005\n",
       "14  CHN          989"
      ]
     },
     "execution_count": 13,
     "metadata": {},
     "output_type": "execute_result"
    }
   ],
   "source": [
    "query = '''\n",
    "SELECT NOC, COUNT(Medal) AS medal_count\n",
    "FROM olympics\n",
    "WHERE Medal IS NOT NULL\n",
    "GROUP BY NOC\n",
    "ORDER BY medal_count DESC\n",
    "LIMIT 15;\n",
    "'''\n",
    "top_nocs = pd.read_sql_query(query, conn)\n",
    "top_nocs"
   ]
  },
  {
   "cell_type": "markdown",
   "id": "4ba33cd7",
   "metadata": {},
   "source": [
    "## 4) Save summary CSVs (sport medals per event, noc medals per athlete) — computed in Python using SQL aggregates"
   ]
  },
  {
   "cell_type": "code",
   "execution_count": 14,
   "id": "b0425778",
   "metadata": {},
   "outputs": [
    {
     "data": {
      "text/html": [
       "<div>\n",
       "<style scoped>\n",
       "    .dataframe tbody tr th:only-of-type {\n",
       "        vertical-align: middle;\n",
       "    }\n",
       "\n",
       "    .dataframe tbody tr th {\n",
       "        vertical-align: top;\n",
       "    }\n",
       "\n",
       "    .dataframe thead th {\n",
       "        text-align: right;\n",
       "    }\n",
       "</style>\n",
       "<table border=\"1\" class=\"dataframe\">\n",
       "  <thead>\n",
       "    <tr style=\"text-align: right;\">\n",
       "      <th></th>\n",
       "      <th>Sport</th>\n",
       "      <th>MedalCount</th>\n",
       "      <th>NumEvents</th>\n",
       "      <th>Medals_per_Event</th>\n",
       "    </tr>\n",
       "  </thead>\n",
       "  <tbody>\n",
       "    <tr>\n",
       "      <th>0</th>\n",
       "      <td>Aeronautics</td>\n",
       "      <td>1</td>\n",
       "      <td>1</td>\n",
       "      <td>1.000000</td>\n",
       "    </tr>\n",
       "    <tr>\n",
       "      <th>1</th>\n",
       "      <td>Alpine Skiing</td>\n",
       "      <td>428</td>\n",
       "      <td>10</td>\n",
       "      <td>42.800000</td>\n",
       "    </tr>\n",
       "    <tr>\n",
       "      <th>2</th>\n",
       "      <td>Alpinism</td>\n",
       "      <td>25</td>\n",
       "      <td>1</td>\n",
       "      <td>25.000000</td>\n",
       "    </tr>\n",
       "    <tr>\n",
       "      <th>3</th>\n",
       "      <td>Archery</td>\n",
       "      <td>353</td>\n",
       "      <td>29</td>\n",
       "      <td>12.172414</td>\n",
       "    </tr>\n",
       "    <tr>\n",
       "      <th>4</th>\n",
       "      <td>Art Competitions</td>\n",
       "      <td>156</td>\n",
       "      <td>29</td>\n",
       "      <td>5.379310</td>\n",
       "    </tr>\n",
       "  </tbody>\n",
       "</table>\n",
       "</div>"
      ],
      "text/plain": [
       "              Sport  MedalCount  NumEvents  Medals_per_Event\n",
       "0       Aeronautics           1          1          1.000000\n",
       "1     Alpine Skiing         428         10         42.800000\n",
       "2          Alpinism          25          1         25.000000\n",
       "3           Archery         353         29         12.172414\n",
       "4  Art Competitions         156         29          5.379310"
      ]
     },
     "execution_count": 14,
     "metadata": {},
     "output_type": "execute_result"
    }
   ],
   "source": [
    "# medals per sport (SQL) and events per sport (Python)\n",
    "medals_by_sport = pd.read_sql_query(\"SELECT Sport, COUNT(Medal) AS MedalCount FROM olympics WHERE Medal IS NOT NULL GROUP BY Sport;\", conn)\n",
    "events_by_sport = df.groupby('Sport')['Event'].nunique().rename('NumEvents').reset_index()\n",
    "sport_norm = medals_by_sport.merge(events_by_sport, on='Sport', how='left')\n",
    "sport_norm['Medals_per_Event'] = sport_norm['MedalCount']/sport_norm['NumEvents']\n",
    "# save to summary folder\n",
    "summary_dir = Path.cwd() / 'milestone2_summary'\n",
    "summary_dir.mkdir(exist_ok=True)\n",
    "sport_norm.to_csv(summary_dir/'sport_medals_per_event.csv', index=False)\n",
    "sport_norm.head()"
   ]
  },
  {
   "cell_type": "markdown",
   "id": "e27df13b",
   "metadata": {},
   "source": [
    "---\n",
    "\n",
    "## Included from `milestone3_correlation.ipynb`\n",
    "\n",
    "# Milestone 3 — Correlation & Metrics (SQL + Python)\n",
    "\n",
    "\n"
   ]
  },
  {
   "cell_type": "code",
   "execution_count": 15,
   "id": "0e30e4e6",
   "metadata": {},
   "outputs": [
    {
     "name": "stdout",
     "output_type": "stream",
     "text": [
      "Using data path: C:\\Users\\Adithya\\Downloads\\Bibhu\\SQL\\athlete_events\\data\\athlete_events.csv\n",
      "Loaded CSV with shape: (271116, 15)\n"
     ]
    }
   ],
   "source": [
    "# Setup: imports + data path\n",
    "from pathlib import Path\n",
    "import pandas as pd\n",
    "import numpy as np\n",
    "import matplotlib.pyplot as plt\n",
    "import seaborn as sns\n",
    "import sqlite3\n",
    "import statsmodels.api as sm\n",
    "import warnings\n",
    "warnings.filterwarnings(\"ignore\")\n",
    "%matplotlib inline\n",
    "\n",
    "# Local data path (update if different)\n",
    "data_dir = Path(r\"C:\\Users\\Adithya\\Downloads\\Bibhu\\SQL\\athlete_events\\data\")\n",
    "athletes_fp = data_dir / \"athlete_events.csv\"\n",
    "noc_fp = data_dir / \"noc_regions.csv\"\n",
    "\n",
    "print(\"Using data path:\", athletes_fp)\n",
    "if not athletes_fp.exists():\n",
    "    raise FileNotFoundError(f\"athlete_events.csv not found at {athletes_fp}. Place the CSV in this folder and re-run the notebook.\")\n",
    "# load CSV into pandas\n",
    "df = pd.read_csv(athletes_fp, low_memory=False)\n",
    "print(\"Loaded CSV with shape:\", df.shape)\n",
    "# standard helpers\n",
    "df['Year'] = df['Year'].astype(int)\n",
    "df['is_medal'] = df['Medal'].notna()\n"
   ]
  },
  {
   "cell_type": "code",
   "execution_count": 16,
   "id": "bcb13875",
   "metadata": {},
   "outputs": [
    {
     "data": {
      "text/plain": [
       "271116"
      ]
     },
     "execution_count": 16,
     "metadata": {},
     "output_type": "execute_result"
    }
   ],
   "source": [
    "# create in-memory sqlite and table\n",
    "conn = sqlite3.connect(':memory:')\n",
    "df.to_sql('olympics', conn, index=False, if_exists='replace')"
   ]
  },
  {
   "cell_type": "markdown",
   "id": "9a28b2eb",
   "metadata": {},
   "source": [
    "## 1) Correlation preparation — extract numeric fields with SQL"
   ]
  },
  {
   "cell_type": "code",
   "execution_count": 17,
   "id": "5a8c29bf",
   "metadata": {},
   "outputs": [
    {
     "data": {
      "text/html": [
       "<div>\n",
       "<style scoped>\n",
       "    .dataframe tbody tr th:only-of-type {\n",
       "        vertical-align: middle;\n",
       "    }\n",
       "\n",
       "    .dataframe tbody tr th {\n",
       "        vertical-align: top;\n",
       "    }\n",
       "\n",
       "    .dataframe thead th {\n",
       "        text-align: right;\n",
       "    }\n",
       "</style>\n",
       "<table border=\"1\" class=\"dataframe\">\n",
       "  <thead>\n",
       "    <tr style=\"text-align: right;\">\n",
       "      <th></th>\n",
       "      <th>Age</th>\n",
       "      <th>Height</th>\n",
       "      <th>Weight</th>\n",
       "    </tr>\n",
       "  </thead>\n",
       "  <tbody>\n",
       "    <tr>\n",
       "      <th>0</th>\n",
       "      <td>24.0</td>\n",
       "      <td>180.0</td>\n",
       "      <td>80.0</td>\n",
       "    </tr>\n",
       "    <tr>\n",
       "      <th>1</th>\n",
       "      <td>23.0</td>\n",
       "      <td>170.0</td>\n",
       "      <td>60.0</td>\n",
       "    </tr>\n",
       "    <tr>\n",
       "      <th>4</th>\n",
       "      <td>21.0</td>\n",
       "      <td>185.0</td>\n",
       "      <td>82.0</td>\n",
       "    </tr>\n",
       "    <tr>\n",
       "      <th>5</th>\n",
       "      <td>21.0</td>\n",
       "      <td>185.0</td>\n",
       "      <td>82.0</td>\n",
       "    </tr>\n",
       "    <tr>\n",
       "      <th>6</th>\n",
       "      <td>25.0</td>\n",
       "      <td>185.0</td>\n",
       "      <td>82.0</td>\n",
       "    </tr>\n",
       "  </tbody>\n",
       "</table>\n",
       "</div>"
      ],
      "text/plain": [
       "    Age  Height  Weight\n",
       "0  24.0   180.0    80.0\n",
       "1  23.0   170.0    60.0\n",
       "4  21.0   185.0    82.0\n",
       "5  21.0   185.0    82.0\n",
       "6  25.0   185.0    82.0"
      ]
     },
     "execution_count": 17,
     "metadata": {},
     "output_type": "execute_result"
    }
   ],
   "source": [
    "query = \"\"\"\n",
    "SELECT Age, Height, Weight\n",
    "FROM olympics\n",
    "WHERE Age IS NOT NULL OR Height IS NOT NULL OR Weight IS NOT NULL\n",
    "LIMIT 100000;\n",
    "\"\"\"\n",
    "num_sample = pd.read_sql_query(query, conn)\n",
    "num_sample = num_sample.apply(pd.to_numeric, errors='coerce')\n",
    "num_sample.dropna(inplace=True)\n",
    "num_sample.head()"
   ]
  },
  {
   "cell_type": "code",
   "execution_count": 18,
   "id": "08191b7d",
   "metadata": {},
   "outputs": [
    {
     "data": {
      "image/png": "[encoded data removed]",
      "text/plain": [
       "<Figure size 600x400 with 2 Axes>"
      ]
     },
     "metadata": {},
     "output_type": "display_data"
    }
   ],
   "source": [
    "# correlation matrix\n",
    "corr = num_sample[['Age','Height','Weight']].corr()\n",
    "import seaborn as sns\n",
    "import matplotlib.pyplot as plt\n",
    "plt.figure(figsize=(6,4))\n",
    "sns.heatmap(corr, annot=True, cmap='coolwarm')\n",
    "plt.title('Correlation heatmap (Age, Height, Weight)')\n",
    "plt.show()"
   ]
  },
  {
   "cell_type": "markdown",
   "id": "bfd2f57c",
   "metadata": {},
   "source": [
    "## 2) Logistic regression (Medal ~ Age + Height + Weight) — prepare data via SQL"
   ]
  },
  {
   "cell_type": "code",
   "execution_count": 19,
   "id": "3a192534",
   "metadata": {},
   "outputs": [
    {
     "data": {
      "text/html": [
       "<div>\n",
       "<style scoped>\n",
       "    .dataframe tbody tr th:only-of-type {\n",
       "        vertical-align: middle;\n",
       "    }\n",
       "\n",
       "    .dataframe tbody tr th {\n",
       "        vertical-align: top;\n",
       "    }\n",
       "\n",
       "    .dataframe thead th {\n",
       "        text-align: right;\n",
       "    }\n",
       "</style>\n",
       "<table border=\"1\" class=\"dataframe\">\n",
       "  <thead>\n",
       "    <tr style=\"text-align: right;\">\n",
       "      <th></th>\n",
       "      <th>Medal_Binary</th>\n",
       "      <th>Age</th>\n",
       "      <th>Height</th>\n",
       "      <th>Weight</th>\n",
       "    </tr>\n",
       "  </thead>\n",
       "  <tbody>\n",
       "    <tr>\n",
       "      <th>0</th>\n",
       "      <td>0</td>\n",
       "      <td>24.0</td>\n",
       "      <td>180.0</td>\n",
       "      <td>80.0</td>\n",
       "    </tr>\n",
       "    <tr>\n",
       "      <th>1</th>\n",
       "      <td>0</td>\n",
       "      <td>23.0</td>\n",
       "      <td>170.0</td>\n",
       "      <td>60.0</td>\n",
       "    </tr>\n",
       "    <tr>\n",
       "      <th>2</th>\n",
       "      <td>0</td>\n",
       "      <td>21.0</td>\n",
       "      <td>185.0</td>\n",
       "      <td>82.0</td>\n",
       "    </tr>\n",
       "    <tr>\n",
       "      <th>3</th>\n",
       "      <td>0</td>\n",
       "      <td>21.0</td>\n",
       "      <td>185.0</td>\n",
       "      <td>82.0</td>\n",
       "    </tr>\n",
       "    <tr>\n",
       "      <th>4</th>\n",
       "      <td>0</td>\n",
       "      <td>25.0</td>\n",
       "      <td>185.0</td>\n",
       "      <td>82.0</td>\n",
       "    </tr>\n",
       "  </tbody>\n",
       "</table>\n",
       "</div>"
      ],
      "text/plain": [
       "   Medal_Binary   Age  Height  Weight\n",
       "0             0  24.0   180.0    80.0\n",
       "1             0  23.0   170.0    60.0\n",
       "2             0  21.0   185.0    82.0\n",
       "3             0  21.0   185.0    82.0\n",
       "4             0  25.0   185.0    82.0"
      ]
     },
     "execution_count": 19,
     "metadata": {},
     "output_type": "execute_result"
    }
   ],
   "source": [
    "# extract rows where Age/Height/Weight exist and Medal info\n",
    "query = \"\"\"\n",
    "SELECT Medal IS NOT NULL AS Medal_Binary, Age, Height, Weight\n",
    "FROM olympics\n",
    "WHERE (Age IS NOT NULL AND Height IS NOT NULL AND Weight IS NOT NULL)\n",
    "LIMIT 200000;\n",
    "\"\"\"\n",
    "model_df = pd.read_sql_query(query, conn)\n",
    "model_df = model_df.dropna()\n",
    "# convert boolean to int\n",
    "model_df['Medal_Binary'] = model_df['Medal_Binary'].astype(int)\n",
    "model_df.head()"
   ]
  },
  {
   "cell_type": "code",
   "execution_count": 20,
   "id": "297bc41a",
   "metadata": {},
   "outputs": [
    {
     "name": "stdout",
     "output_type": "stream",
     "text": [
      "                           Logit Regression Results                           \n",
      "==============================================================================\n",
      "Dep. Variable:           Medal_Binary   No. Observations:               200000\n",
      "Model:                          Logit   Df Residuals:                   199996\n",
      "Method:                           MLE   Df Model:                            3\n",
      "Date:                Sun, 26 Oct 2025   Pseudo R-squ.:                 0.01094\n",
      "Time:                        21:30:02   Log-Likelihood:                -82277.\n",
      "converged:                       True   LL-Null:                       -83187.\n",
      "Covariance Type:            nonrobust   LLR p-value:                     0.000\n",
      "==============================================================================\n",
      "                 coef    std err          z      P>|z|      [0.025      0.975]\n",
      "------------------------------------------------------------------------------\n",
      "const         -5.2741      0.141    -37.522      0.000      -5.550      -4.999\n",
      "Age            0.0068      0.001      5.745      0.000       0.004       0.009\n",
      "Height         0.0158      0.001     16.295      0.000       0.014       0.018\n",
      "Weight         0.0076      0.001     10.900      0.000       0.006       0.009\n",
      "==============================================================================\n"
     ]
    }
   ],
   "source": [
    "# fit logistic regression\n",
    "import statsmodels.api as sm\n",
    "X = sm.add_constant(model_df[['Age','Height','Weight']])\n",
    "y = model_df['Medal_Binary']\n",
    "logit = sm.Logit(y, X).fit(disp=False)\n",
    "print(logit.summary())"
   ]
  },
  {
   "cell_type": "markdown",
   "id": "2ecc45b0",
   "metadata": {},
   "source": [
    "## 3) Medal Efficiency Index (MEI) and Age Performance Index (API) — computed using SQL aggregates"
   ]
  },
  {
   "cell_type": "code",
   "execution_count": 21,
   "id": "605f84d8",
   "metadata": {},
   "outputs": [
    {
     "data": {
      "text/html": [
       "<div>\n",
       "<style scoped>\n",
       "    .dataframe tbody tr th:only-of-type {\n",
       "        vertical-align: middle;\n",
       "    }\n",
       "\n",
       "    .dataframe tbody tr th {\n",
       "        vertical-align: top;\n",
       "    }\n",
       "\n",
       "    .dataframe thead th {\n",
       "        text-align: right;\n",
       "    }\n",
       "</style>\n",
       "<table border=\"1\" class=\"dataframe\">\n",
       "  <thead>\n",
       "    <tr style=\"text-align: right;\">\n",
       "      <th></th>\n",
       "      <th>NOC</th>\n",
       "      <th>MedalCount</th>\n",
       "      <th>NumAthletes</th>\n",
       "      <th>MEI</th>\n",
       "    </tr>\n",
       "  </thead>\n",
       "  <tbody>\n",
       "    <tr>\n",
       "      <th>139</th>\n",
       "      <td>URS</td>\n",
       "      <td>2503</td>\n",
       "      <td>2948</td>\n",
       "      <td>0.849050</td>\n",
       "    </tr>\n",
       "    <tr>\n",
       "      <th>47</th>\n",
       "      <td>GDR</td>\n",
       "      <td>1005</td>\n",
       "      <td>1360</td>\n",
       "      <td>0.738971</td>\n",
       "    </tr>\n",
       "    <tr>\n",
       "      <th>141</th>\n",
       "      <td>USA</td>\n",
       "      <td>5637</td>\n",
       "      <td>9653</td>\n",
       "      <td>0.583964</td>\n",
       "    </tr>\n",
       "    <tr>\n",
       "      <th>3</th>\n",
       "      <td>ANZ</td>\n",
       "      <td>29</td>\n",
       "      <td>53</td>\n",
       "      <td>0.547170</td>\n",
       "    </tr>\n",
       "    <tr>\n",
       "      <th>112</th>\n",
       "      <td>RUS</td>\n",
       "      <td>1165</td>\n",
       "      <td>2428</td>\n",
       "      <td>0.479819</td>\n",
       "    </tr>\n",
       "  </tbody>\n",
       "</table>\n",
       "</div>"
      ],
      "text/plain": [
       "     NOC  MedalCount  NumAthletes       MEI\n",
       "139  URS        2503         2948  0.849050\n",
       "47   GDR        1005         1360  0.738971\n",
       "141  USA        5637         9653  0.583964\n",
       "3    ANZ          29           53  0.547170\n",
       "112  RUS        1165         2428  0.479819"
      ]
     },
     "execution_count": 21,
     "metadata": {},
     "output_type": "execute_result"
    }
   ],
   "source": [
    "# MEI via SQL: medals per NOC and athletes per NOC\n",
    "medals_sql = pd.read_sql_query(\"SELECT NOC, COUNT(Medal) AS MedalCount FROM olympics WHERE Medal IS NOT NULL GROUP BY NOC;\", conn)\n",
    "athletes_sql = pd.read_sql_query(\"SELECT NOC, COUNT(DISTINCT ID) AS NumAthletes FROM olympics GROUP BY NOC;\", conn)\n",
    "mei = medals_sql.merge(athletes_sql, on='NOC')\n",
    "mei['MEI'] = mei['MedalCount']/mei['NumAthletes']\n",
    "mei.sort_values('MEI', ascending=False).head()"
   ]
  },
  {
   "cell_type": "code",
   "execution_count": 22,
   "id": "11f585da",
   "metadata": {},
   "outputs": [
    {
     "data": {
      "text/html": [
       "<div>\n",
       "<style scoped>\n",
       "    .dataframe tbody tr th:only-of-type {\n",
       "        vertical-align: middle;\n",
       "    }\n",
       "\n",
       "    .dataframe tbody tr th {\n",
       "        vertical-align: top;\n",
       "    }\n",
       "\n",
       "    .dataframe thead th {\n",
       "        text-align: right;\n",
       "    }\n",
       "</style>\n",
       "<table border=\"1\" class=\"dataframe\">\n",
       "  <thead>\n",
       "    <tr style=\"text-align: right;\">\n",
       "      <th></th>\n",
       "      <th>Sport</th>\n",
       "      <th>AvgMedalistAge</th>\n",
       "      <th>AvgAthleteAge</th>\n",
       "      <th>API</th>\n",
       "    </tr>\n",
       "  </thead>\n",
       "  <tbody>\n",
       "    <tr>\n",
       "      <th>3</th>\n",
       "      <td>Archery</td>\n",
       "      <td>30.927900</td>\n",
       "      <td>27.935226</td>\n",
       "      <td>1.107129</td>\n",
       "    </tr>\n",
       "    <tr>\n",
       "      <th>23</th>\n",
       "      <td>Figure Skating</td>\n",
       "      <td>24.020779</td>\n",
       "      <td>22.232190</td>\n",
       "      <td>1.080450</td>\n",
       "    </tr>\n",
       "    <tr>\n",
       "      <th>55</th>\n",
       "      <td>Synchronized Swimming</td>\n",
       "      <td>23.809302</td>\n",
       "      <td>22.366851</td>\n",
       "      <td>1.064491</td>\n",
       "    </tr>\n",
       "    <tr>\n",
       "      <th>17</th>\n",
       "      <td>Cross Country Skiing</td>\n",
       "      <td>27.617268</td>\n",
       "      <td>26.006155</td>\n",
       "      <td>1.061951</td>\n",
       "    </tr>\n",
       "    <tr>\n",
       "      <th>18</th>\n",
       "      <td>Curling</td>\n",
       "      <td>33.302632</td>\n",
       "      <td>31.412527</td>\n",
       "      <td>1.060170</td>\n",
       "    </tr>\n",
       "  </tbody>\n",
       "</table>\n",
       "</div>"
      ],
      "text/plain": [
       "                    Sport  AvgMedalistAge  AvgAthleteAge       API\n",
       "3                 Archery       30.927900      27.935226  1.107129\n",
       "23         Figure Skating       24.020779      22.232190  1.080450\n",
       "55  Synchronized Swimming       23.809302      22.366851  1.064491\n",
       "17   Cross Country Skiing       27.617268      26.006155  1.061951\n",
       "18                Curling       33.302632      31.412527  1.060170"
      ]
     },
     "execution_count": 22,
     "metadata": {},
     "output_type": "execute_result"
    }
   ],
   "source": [
    "# API via SQL: avg medalist age vs avg athlete age per sport\n",
    "medalist_age = pd.read_sql_query(\"SELECT Sport, AVG(Age) AS AvgMedalistAge FROM olympics WHERE Medal IS NOT NULL GROUP BY Sport;\", conn)\n",
    "athlete_age = pd.read_sql_query(\"SELECT Sport, AVG(Age) AS AvgAthleteAge FROM olympics GROUP BY Sport;\", conn)\n",
    "api = medalist_age.merge(athlete_age, on='Sport')\n",
    "api['API'] = api['AvgMedalistAge']/api['AvgAthleteAge']\n",
    "api.sort_values('API', ascending=False).head()"
   ]
  },
  {
   "cell_type": "code",
   "execution_count": 23,
   "id": "cdb60a76",
   "metadata": {},
   "outputs": [
    {
     "name": "stdout",
     "output_type": "stream",
     "text": [
      "Saved MEI/API to c:\\Users\\Adithya\\Downloads\\Bibhu\\SQL\\athlete_events\\notebooks\\milestone3_summary\n"
     ]
    }
   ],
   "source": [
    "# save outputs\n",
    "dir = Path.cwd()/'milestone3_summary'\n",
    "dir.mkdir(exist_ok=True)\n",
    "mei.to_csv(dir/'medal_efficiency_index.csv', index=False)\n",
    "api.to_csv(dir/'age_performance_index.csv', index=False)\n",
    "print('Saved MEI/API to', dir)"
   ]
  },
  {
   "cell_type": "markdown",
   "id": "b0b5738f",
   "metadata": {},
   "source": [
    "---\n",
    "\n",
    "## Included from `milestone4_storytelling.ipynb`\n",
    "\n",
    "# Milestone 4 — Storytelling & Presentation (SQL + Python)\n",
    "\n",
    "\n"
   ]
  },
  {
   "cell_type": "code",
   "execution_count": 24,
   "id": "b80fa4b2",
   "metadata": {},
   "outputs": [
    {
     "name": "stdout",
     "output_type": "stream",
     "text": [
      "Using data path: C:\\Users\\Adithya\\Downloads\\Bibhu\\SQL\\athlete_events\\data\\athlete_events.csv\n",
      "Loaded CSV with shape: (271116, 15)\n"
     ]
    }
   ],
   "source": [
    "# Setup: imports + data path\n",
    "from pathlib import Path\n",
    "import pandas as pd\n",
    "import numpy as np\n",
    "import matplotlib.pyplot as plt\n",
    "import seaborn as sns\n",
    "import sqlite3\n",
    "import statsmodels.api as sm\n",
    "import warnings\n",
    "warnings.filterwarnings(\"ignore\")\n",
    "%matplotlib inline\n",
    "\n",
    "# Local data path (update if different)\n",
    "data_dir = Path(r\"C:\\Users\\Adithya\\Downloads\\Bibhu\\SQL\\athlete_events\\data\")\n",
    "athletes_fp = data_dir / \"athlete_events.csv\"\n",
    "noc_fp = data_dir / \"noc_regions.csv\"\n",
    "\n",
    "print(\"Using data path:\", athletes_fp)\n",
    "if not athletes_fp.exists():\n",
    "    raise FileNotFoundError(f\"athlete_events.csv not found at {athletes_fp}. Place the CSV in this folder and re-run the notebook.\")\n",
    "# load CSV into pandas\n",
    "df = pd.read_csv(athletes_fp, low_memory=False)\n",
    "print(\"Loaded CSV with shape:\", df.shape)\n",
    "# standard helpers\n",
    "df['Year'] = df['Year'].astype(int)\n",
    "df['is_medal'] = df['Medal'].notna()\n"
   ]
  },
  {
   "cell_type": "code",
   "execution_count": 25,
   "id": "8b20e7a2",
   "metadata": {},
   "outputs": [
    {
     "data": {
      "text/plain": [
       "271116"
      ]
     },
     "execution_count": 25,
     "metadata": {},
     "output_type": "execute_result"
    }
   ],
   "source": [
    "conn = sqlite3.connect(':memory:')\n",
    "df.to_sql('olympics', conn, index=False, if_exists='replace')\n"
   ]
  },
  {
   "cell_type": "markdown",
   "id": "644f420d",
   "metadata": {},
   "source": [
    "## Executive Summary\n",
    "This notebook pulls SQL-backed extracts and renders presentation-ready visuals."
   ]
  },
  {
   "cell_type": "code",
   "execution_count": 26,
   "id": "9c4312a0",
   "metadata": {},
   "outputs": [
    {
     "name": "stdout",
     "output_type": "stream",
     "text": [
      "Top sports and NOCs extracted\n"
     ]
    }
   ],
   "source": [
    "# Extract top sports & top NOCs via SQL\n",
    "top_sports = pd.read_sql_query(\"SELECT Sport, COUNT(Medal) AS medal_count FROM olympics WHERE Medal IS NOT NULL GROUP BY Sport ORDER BY medal_count DESC LIMIT 10;\", conn)\n",
    "top_nocs = pd.read_sql_query(\"SELECT NOC, COUNT(Medal) AS medal_count FROM olympics WHERE Medal IS NOT NULL GROUP BY NOC ORDER BY medal_count DESC LIMIT 10;\", conn)\n",
    "print('Top sports and NOCs extracted')\n"
   ]
  },
  {
   "cell_type": "code",
   "execution_count": 27,
   "id": "44bd2542",
   "metadata": {},
   "outputs": [
    {
     "data": {
      "image/png": "[encoded data removed]",
      "text/plain": [
       "<Figure size 800x400 with 1 Axes>"
      ]
     },
     "metadata": {},
     "output_type": "display_data"
    }
   ],
   "source": [
    "# Plot top sports (Python)\n",
    "import matplotlib.pyplot as plt\n",
    "plt.figure(figsize=(8,4))\n",
    "top_sports.set_index('Sport')['medal_count'].sort_values().plot.barh(color='gold')\n",
    "plt.title('Top 10 Sports by Medal Entries')\n",
    "plt.tight_layout()\n",
    "plt.show()\n"
   ]
  },
  {
   "cell_type": "code",
   "execution_count": 28,
   "id": "f3e43a33",
   "metadata": {},
   "outputs": [
    {
     "data": {
      "image/png": "[encoded data removed]",
      "text/plain": [
       "<Figure size 1000x400 with 1 Axes>"
      ]
     },
     "metadata": {},
     "output_type": "display_data"
    }
   ],
   "source": [
    "# Gender participation trend (SQL -> pivot -> plot)\n",
    "gender_sql = pd.read_sql_query(\"SELECT Year, Sex, COUNT(DISTINCT ID) as athletes FROM olympics GROUP BY Year, Sex ORDER BY Year;\", conn)\n",
    "gender_pivot = gender_sql.pivot(index='Year', columns='Sex', values='athletes').fillna(0)\n",
    "plt.figure(figsize=(10,4))\n",
    "plt.stackplot(gender_pivot.index, gender_pivot.get('M',0), gender_pivot.get('F',0), labels=['Male','Female'])\n",
    "plt.legend(); plt.title('Gender Participation Over Time'); plt.tight_layout(); plt.show()\n"
   ]
  },
  {
   "cell_type": "markdown",
   "id": "3a23e93f",
   "metadata": {},
   "source": [
    "## Recommendations\n",
    "1. Invest in focused training programs in high-MEI countries.\n",
    "2. Continue to expand female inclusion programs.\n",
    "3. Build interactive dashboards for stakeholders using the saved visuals."
   ]
  }
 ],
 "metadata": {
  "kernelspec": {
   "display_name": "Python 3",
   "language": "python",
   "name": "python3"
  },
  "language_info": {
   "codemirror_mode": {
    "name": "ipython",
    "version": 3
   },
   "file_extension": ".py",
   "mimetype": "text/x-python",
   "name": "python",
   "nbconvert_exporter": "python",
   "pygments_lexer": "ipython3",
   "version": "3.13.7"
  }
 },
 "nbformat": 4,
 "nbformat_minor": 5
}
